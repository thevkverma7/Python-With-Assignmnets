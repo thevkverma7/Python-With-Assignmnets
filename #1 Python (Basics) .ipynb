{
 "cells": [
  {
   "cell_type": "code",
   "execution_count": 1,
   "id": "0582d387",
   "metadata": {},
   "outputs": [
    {
     "data": {
      "text/plain": [
       "2"
      ]
     },
     "execution_count": 1,
     "metadata": {},
     "output_type": "execute_result"
    }
   ],
   "source": [
    "1+1"
   ]
  },
  {
   "cell_type": "code",
   "execution_count": 2,
   "id": "47e6af84",
   "metadata": {},
   "outputs": [
    {
     "data": {
      "text/plain": [
       "10"
      ]
     },
     "execution_count": 2,
     "metadata": {},
     "output_type": "execute_result"
    }
   ],
   "source": [
    "## 'a' is a variable\n",
    "a=10\n",
    "a"
   ]
  },
  {
   "cell_type": "code",
   "execution_count": 3,
   "id": "61ddd955",
   "metadata": {},
   "outputs": [
    {
     "data": {
      "text/plain": [
       "int"
      ]
     },
     "execution_count": 3,
     "metadata": {},
     "output_type": "execute_result"
    }
   ],
   "source": [
    "## \"type\" is a type of function\n",
    "type(a)"
   ]
  },
  {
   "cell_type": "code",
   "execution_count": 4,
   "id": "4cb2938b",
   "metadata": {},
   "outputs": [
    {
     "data": {
      "text/plain": [
       "float"
      ]
     },
     "execution_count": 4,
     "metadata": {},
     "output_type": "execute_result"
    }
   ],
   "source": [
    "b=10.5\n",
    "type(b)"
   ]
  },
  {
   "cell_type": "code",
   "execution_count": 5,
   "id": "0107ae03",
   "metadata": {},
   "outputs": [
    {
     "data": {
      "text/plain": [
       "str"
      ]
     },
     "execution_count": 5,
     "metadata": {},
     "output_type": "execute_result"
    }
   ],
   "source": [
    "c=\"ram\"\n",
    "type(c)"
   ]
  },
  {
   "cell_type": "code",
   "execution_count": 6,
   "id": "06d730e6",
   "metadata": {},
   "outputs": [
    {
     "data": {
      "text/plain": [
       "bool"
      ]
     },
     "execution_count": 6,
     "metadata": {},
     "output_type": "execute_result"
    }
   ],
   "source": [
    "ram=True\n",
    "type(ram)"
   ]
  },
  {
   "cell_type": "code",
   "execution_count": 7,
   "id": "9b67ab3e",
   "metadata": {},
   "outputs": [
    {
     "data": {
      "text/plain": [
       "complex"
      ]
     },
     "execution_count": 7,
     "metadata": {},
     "output_type": "execute_result"
    }
   ],
   "source": [
    "d=5+8j\n",
    "type(d)"
   ]
  },
  {
   "cell_type": "code",
   "execution_count": 8,
   "id": "fb00274f",
   "metadata": {},
   "outputs": [
    {
     "data": {
      "text/plain": [
       "8.0"
      ]
     },
     "execution_count": 8,
     "metadata": {},
     "output_type": "execute_result"
    }
   ],
   "source": [
    "## use Tab for calling d\n",
    "d.imag"
   ]
  },
  {
   "cell_type": "code",
   "execution_count": 9,
   "id": "d676ddb6",
   "metadata": {},
   "outputs": [
    {
     "data": {
      "text/plain": [
       "5.0"
      ]
     },
     "execution_count": 9,
     "metadata": {},
     "output_type": "execute_result"
    }
   ],
   "source": [
    "d.real"
   ]
  },
  {
   "cell_type": "code",
   "execution_count": 10,
   "id": "0346eae0",
   "metadata": {},
   "outputs": [],
   "source": [
    "a=23"
   ]
  },
  {
   "cell_type": "code",
   "execution_count": 11,
   "id": "9d690f5f",
   "metadata": {},
   "outputs": [],
   "source": [
    "b=34.5"
   ]
  },
  {
   "cell_type": "code",
   "execution_count": 12,
   "id": "dae44020",
   "metadata": {},
   "outputs": [],
   "source": [
    "c=True"
   ]
  },
  {
   "cell_type": "code",
   "execution_count": 13,
   "id": "79dc423a",
   "metadata": {},
   "outputs": [
    {
     "data": {
      "text/plain": [
       "2"
      ]
     },
     "execution_count": 13,
     "metadata": {},
     "output_type": "execute_result"
    }
   ],
   "source": [
    "True + True"
   ]
  },
  {
   "cell_type": "code",
   "execution_count": 14,
   "id": "ce095747",
   "metadata": {},
   "outputs": [
    {
     "data": {
      "text/plain": [
       "1"
      ]
     },
     "execution_count": 14,
     "metadata": {},
     "output_type": "execute_result"
    }
   ],
   "source": [
    "## this is a code for bollean variable undrestanding\n",
    "True + False"
   ]
  },
  {
   "cell_type": "code",
   "execution_count": 15,
   "id": "f95fad49",
   "metadata": {},
   "outputs": [],
   "source": [
    "s = \"my name is vivek\""
   ]
  },
  {
   "cell_type": "code",
   "execution_count": 16,
   "id": "dacd8032",
   "metadata": {},
   "outputs": [
    {
     "data": {
      "text/plain": [
       "str"
      ]
     },
     "execution_count": 16,
     "metadata": {},
     "output_type": "execute_result"
    }
   ],
   "source": [
    "type(s)"
   ]
  },
  {
   "cell_type": "code",
   "execution_count": 17,
   "id": "bf836c34",
   "metadata": {},
   "outputs": [],
   "source": [
    "## or we can also write\n",
    "v='my name is vivek '\n"
   ]
  },
  {
   "cell_type": "code",
   "execution_count": 18,
   "id": "241a2290",
   "metadata": {},
   "outputs": [
    {
     "data": {
      "text/plain": [
       "str"
      ]
     },
     "execution_count": 18,
     "metadata": {},
     "output_type": "execute_result"
    }
   ],
   "source": [
    "type(v)"
   ]
  },
  {
   "cell_type": "code",
   "execution_count": 19,
   "id": "c43bce86",
   "metadata": {},
   "outputs": [
    {
     "name": "stdout",
     "output_type": "stream",
     "text": [
      "my name is vivek\n"
     ]
    }
   ],
   "source": [
    "print(s)"
   ]
  },
  {
   "cell_type": "code",
   "execution_count": 20,
   "id": "653c12dc",
   "metadata": {},
   "outputs": [
    {
     "ename": "SyntaxError",
     "evalue": "invalid syntax (<ipython-input-20-69d602d1466c>, line 2)",
     "output_type": "error",
     "traceback": [
      "\u001b[0;36m  File \u001b[0;32m\"<ipython-input-20-69d602d1466c>\"\u001b[0;36m, line \u001b[0;32m2\u001b[0m\n\u001b[0;31m    v='my name's is vivek '\u001b[0m\n\u001b[0m               ^\u001b[0m\n\u001b[0;31mSyntaxError\u001b[0m\u001b[0;31m:\u001b[0m invalid syntax\n"
     ]
    }
   ],
   "source": [
    "## when we try to write in this way\n",
    "v='my name's is vivek '\n",
    "v"
   ]
  },
  {
   "cell_type": "code",
   "execution_count": 21,
   "id": "cdb1c389",
   "metadata": {},
   "outputs": [
    {
     "data": {
      "text/plain": [
       "\"my name's is vivek\""
      ]
     },
     "execution_count": 21,
     "metadata": {},
     "output_type": "execute_result"
    }
   ],
   "source": [
    "## then we can write in this way\n",
    "v=\"my name's is vivek\"\n",
    "v"
   ]
  },
  {
   "cell_type": "code",
   "execution_count": 22,
   "id": "4a457521",
   "metadata": {},
   "outputs": [],
   "source": [
    "s = \"VivekKumar\""
   ]
  },
  {
   "cell_type": "code",
   "execution_count": 23,
   "id": "cda91719",
   "metadata": {},
   "outputs": [
    {
     "data": {
      "text/plain": [
       "140651398077616"
      ]
     },
     "execution_count": 23,
     "metadata": {},
     "output_type": "execute_result"
    }
   ],
   "source": [
    "## for location os string\n",
    "id(s)"
   ]
  },
  {
   "cell_type": "code",
   "execution_count": 24,
   "id": "35278601",
   "metadata": {},
   "outputs": [
    {
     "data": {
      "text/plain": [
       "'i'"
      ]
     },
     "execution_count": 24,
     "metadata": {},
     "output_type": "execute_result"
    }
   ],
   "source": [
    "## for finding indexing we use\n",
    "s[1]"
   ]
  },
  {
   "cell_type": "code",
   "execution_count": 25,
   "id": "45bb4dc2",
   "metadata": {},
   "outputs": [
    {
     "data": {
      "text/plain": [
       "'a'"
      ]
     },
     "execution_count": 25,
     "metadata": {},
     "output_type": "execute_result"
    }
   ],
   "source": [
    "s[-2]"
   ]
  },
  {
   "cell_type": "code",
   "execution_count": 26,
   "id": "3a272073",
   "metadata": {},
   "outputs": [
    {
     "ename": "IndexError",
     "evalue": "string index out of range",
     "output_type": "error",
     "traceback": [
      "\u001b[0;31m---------------------------------------------------------------------------\u001b[0m",
      "\u001b[0;31mIndexError\u001b[0m                                Traceback (most recent call last)",
      "\u001b[0;32m<ipython-input-26-ccbc0585b80d>\u001b[0m in \u001b[0;36m<module>\u001b[0;34m\u001b[0m\n\u001b[0;32m----> 1\u001b[0;31m \u001b[0ms\u001b[0m\u001b[0;34m[\u001b[0m\u001b[0;36m12\u001b[0m\u001b[0;34m]\u001b[0m\u001b[0;34m\u001b[0m\u001b[0;34m\u001b[0m\u001b[0m\n\u001b[0m",
      "\u001b[0;31mIndexError\u001b[0m: string index out of range"
     ]
    }
   ],
   "source": [
    "s[12]"
   ]
  },
  {
   "cell_type": "code",
   "execution_count": 27,
   "id": "d339b220",
   "metadata": {},
   "outputs": [],
   "source": [
    "## sclicing\n",
    "s = \"VivekKumar\""
   ]
  },
  {
   "cell_type": "code",
   "execution_count": 28,
   "id": "381b42e9",
   "metadata": {},
   "outputs": [
    {
     "data": {
      "text/plain": [
       "'Vivek'"
      ]
     },
     "execution_count": 28,
     "metadata": {},
     "output_type": "execute_result"
    }
   ],
   "source": [
    "s[0:5]"
   ]
  },
  {
   "cell_type": "code",
   "execution_count": 29,
   "id": "5edd9e8b",
   "metadata": {},
   "outputs": [
    {
     "data": {
      "text/plain": [
       "'Vvk'"
      ]
     },
     "execution_count": 29,
     "metadata": {},
     "output_type": "execute_result"
    }
   ],
   "source": [
    "# 2 is nothing but it is a \"jump or step\"\n",
    "s[0:5:2]"
   ]
  },
  {
   "cell_type": "code",
   "execution_count": 30,
   "id": "96fece72",
   "metadata": {},
   "outputs": [
    {
     "data": {
      "text/plain": [
       "''"
      ]
     },
     "execution_count": 30,
     "metadata": {},
     "output_type": "execute_result"
    }
   ],
   "source": [
    "## answer is nothing because we are going to in positive direction but we jump in negative direction\n",
    "s[0:5:-1]"
   ]
  },
  {
   "cell_type": "code",
   "execution_count": 31,
   "id": "76cd6f0b",
   "metadata": {},
   "outputs": [
    {
     "data": {
      "text/plain": [
       "'Kkevi'"
      ]
     },
     "execution_count": 31,
     "metadata": {},
     "output_type": "execute_result"
    }
   ],
   "source": [
    "## now\n",
    "s[5:0:-1]"
   ]
  },
  {
   "cell_type": "code",
   "execution_count": 32,
   "id": "b5137a10",
   "metadata": {},
   "outputs": [
    {
     "data": {
      "text/plain": [
       "'ramuKkeviV'"
      ]
     },
     "execution_count": 32,
     "metadata": {},
     "output_type": "execute_result"
    }
   ],
   "source": [
    "## inverce\n",
    "s[::-1]"
   ]
  },
  {
   "cell_type": "code",
   "execution_count": 34,
   "id": "19a56239",
   "metadata": {},
   "outputs": [],
   "source": [
    "##data type\n",
    "c=[]"
   ]
  },
  {
   "cell_type": "code",
   "execution_count": 35,
   "id": "6b26e919",
   "metadata": {},
   "outputs": [
    {
     "data": {
      "text/plain": [
       "list"
      ]
     },
     "execution_count": 35,
     "metadata": {},
     "output_type": "execute_result"
    }
   ],
   "source": [
    "type(c)"
   ]
  },
  {
   "cell_type": "code",
   "execution_count": 36,
   "id": "4d7faca6",
   "metadata": {},
   "outputs": [
    {
     "name": "stdout",
     "output_type": "stream",
     "text": [
      "[]\n"
     ]
    },
    {
     "data": {
      "text/plain": [
       "list"
      ]
     },
     "execution_count": 36,
     "metadata": {},
     "output_type": "execute_result"
    }
   ],
   "source": [
    "s = list()\n",
    "print(s)\n",
    "type(s)"
   ]
  },
  {
   "cell_type": "code",
   "execution_count": 37,
   "id": "36927d26",
   "metadata": {},
   "outputs": [],
   "source": [
    "## list is a collection of homoge. and hetrogrn. data type"
   ]
  },
  {
   "cell_type": "code",
   "execution_count": 38,
   "id": "3e0d6144",
   "metadata": {},
   "outputs": [
    {
     "data": {
      "text/plain": [
       "[1, 2, 1, 2, 5, 7, 4, 6]"
      ]
     },
     "execution_count": 38,
     "metadata": {},
     "output_type": "execute_result"
    }
   ],
   "source": [
    "## homogen.(same type of data type)\n",
    "c=[1,2,1,2,5,7,4,6]\n",
    "c"
   ]
  },
  {
   "cell_type": "code",
   "execution_count": 39,
   "id": "a9678520",
   "metadata": {},
   "outputs": [
    {
     "data": {
      "text/plain": [
       "[23, 5.8, 'vivek', (5+8j), True]"
      ]
     },
     "execution_count": 39,
     "metadata": {},
     "output_type": "execute_result"
    }
   ],
   "source": [
    "# hetrogen.\n",
    "s=[a,5.8,\"vivek\",(5+8j),True]\n",
    "s"
   ]
  },
  {
   "cell_type": "code",
   "execution_count": 40,
   "id": "bbb3d976",
   "metadata": {},
   "outputs": [
    {
     "data": {
      "text/plain": [
       "'vivek'"
      ]
     },
     "execution_count": 40,
     "metadata": {},
     "output_type": "execute_result"
    }
   ],
   "source": [
    "s[2]"
   ]
  },
  {
   "cell_type": "code",
   "execution_count": 41,
   "id": "5ac37cb3",
   "metadata": {},
   "outputs": [
    {
     "data": {
      "text/plain": [
       "'vivek'"
      ]
     },
     "execution_count": 41,
     "metadata": {},
     "output_type": "execute_result"
    }
   ],
   "source": [
    "s[-3]"
   ]
  },
  {
   "cell_type": "code",
   "execution_count": 42,
   "id": "2e47df67",
   "metadata": {},
   "outputs": [
    {
     "data": {
      "text/plain": [
       "str"
      ]
     },
     "execution_count": 42,
     "metadata": {},
     "output_type": "execute_result"
    }
   ],
   "source": [
    "type(s[-3])"
   ]
  },
  {
   "cell_type": "code",
   "execution_count": 49,
   "id": "91db9dba",
   "metadata": {},
   "outputs": [
    {
     "data": {
      "text/plain": [
       "[23, 5.8, [1, 5, 'verma'], 'vivek', (5+8j), True]"
      ]
     },
     "execution_count": 49,
     "metadata": {},
     "output_type": "execute_result"
    }
   ],
   "source": [
    "## list of list\n",
    "s=[a,5.8, [1,5,\"verma\"] ,\"vivek\",(5+8j),True]\n",
    "s"
   ]
  },
  {
   "cell_type": "code",
   "execution_count": 50,
   "id": "067173bd",
   "metadata": {},
   "outputs": [
    {
     "data": {
      "text/plain": [
       "'verma'"
      ]
     },
     "execution_count": 50,
     "metadata": {},
     "output_type": "execute_result"
    }
   ],
   "source": [
    "## now find \"verma\"\n",
    "s[2][2]"
   ]
  },
  {
   "cell_type": "code",
   "execution_count": 51,
   "id": "cfb20963",
   "metadata": {},
   "outputs": [
    {
     "data": {
      "text/plain": [
       "[23, 5.8, [1, 5, 'verma'], 'vivek', (5+8j)]"
      ]
     },
     "execution_count": 51,
     "metadata": {},
     "output_type": "execute_result"
    }
   ],
   "source": [
    "s[0:5]"
   ]
  },
  {
   "cell_type": "code",
   "execution_count": 52,
   "id": "6c24715a",
   "metadata": {},
   "outputs": [
    {
     "data": {
      "text/plain": [
       "[]"
      ]
     },
     "execution_count": 52,
     "metadata": {},
     "output_type": "execute_result"
    }
   ],
   "source": [
    "## here the step size is \"1\" , So no answer is here\n",
    "s[-1:-5]"
   ]
  },
  {
   "cell_type": "code",
   "execution_count": 53,
   "id": "e905c8fd",
   "metadata": {},
   "outputs": [
    {
     "data": {
      "text/plain": [
       "[True, (5+8j), 'vivek', [1, 5, 'verma']]"
      ]
     },
     "execution_count": 53,
     "metadata": {},
     "output_type": "execute_result"
    }
   ],
   "source": [
    "## Now\n",
    "s[-1:-5:-1]"
   ]
  },
  {
   "cell_type": "code",
   "execution_count": 54,
   "id": "b4126f3d",
   "metadata": {},
   "outputs": [
    {
     "data": {
      "text/plain": [
       "range(0, 10)"
      ]
     },
     "execution_count": 54,
     "metadata": {},
     "output_type": "execute_result"
    }
   ],
   "source": [
    "##  Range function\n",
    "range(10)"
   ]
  },
  {
   "cell_type": "code",
   "execution_count": 55,
   "id": "baea995b",
   "metadata": {},
   "outputs": [
    {
     "data": {
      "text/plain": [
       "[0, 1, 2, 3, 4, 5, 6, 7, 8, 9]"
      ]
     },
     "execution_count": 55,
     "metadata": {},
     "output_type": "execute_result"
    }
   ],
   "source": [
    " list(range(10))"
   ]
  },
  {
   "cell_type": "code",
   "execution_count": 56,
   "id": "f4236786",
   "metadata": {},
   "outputs": [
    {
     "data": {
      "text/plain": [
       "[0, 1, 2, 3, 4, 5, 6, 7, 8, 9]"
      ]
     },
     "execution_count": 56,
     "metadata": {},
     "output_type": "execute_result"
    }
   ],
   "source": [
    "## or \n",
    "list(range(0,10))"
   ]
  },
  {
   "cell_type": "code",
   "execution_count": 57,
   "id": "406a33c7",
   "metadata": {},
   "outputs": [
    {
     "data": {
      "text/plain": [
       "[3, 4, 5, 6, 7, 8, 9, 10, 11, 12, 13, 14]"
      ]
     },
     "execution_count": 57,
     "metadata": {},
     "output_type": "execute_result"
    }
   ],
   "source": [
    "list(range(3,15))"
   ]
  },
  {
   "cell_type": "code",
   "execution_count": 58,
   "id": "4bf8b68c",
   "metadata": {},
   "outputs": [
    {
     "data": {
      "text/plain": [
       "[0, 3, 6, 9, 12]"
      ]
     },
     "execution_count": 58,
     "metadata": {},
     "output_type": "execute_result"
    }
   ],
   "source": [
    "list(range(0,15,3))"
   ]
  },
  {
   "cell_type": "code",
   "execution_count": 59,
   "id": "31c6c430",
   "metadata": {},
   "outputs": [
    {
     "data": {
      "text/plain": [
       "[]"
      ]
     },
     "execution_count": 59,
     "metadata": {},
     "output_type": "execute_result"
    }
   ],
   "source": [
    "## reverse\n",
    "list(range(10,3))"
   ]
  },
  {
   "cell_type": "code",
   "execution_count": 67,
   "id": "057752df",
   "metadata": {},
   "outputs": [
    {
     "data": {
      "text/plain": [
       "[10, 9, 8, 7, 6, 5, 4]"
      ]
     },
     "execution_count": 67,
     "metadata": {},
     "output_type": "execute_result"
    }
   ],
   "source": [
    "## Now\n",
    "list(range(10,3,-1))"
   ]
  },
  {
   "cell_type": "code",
   "execution_count": 68,
   "id": "43bc4fd5",
   "metadata": {},
   "outputs": [
    {
     "ename": "TypeError",
     "evalue": "'float' object cannot be interpreted as an integer",
     "output_type": "error",
     "traceback": [
      "\u001b[0;31m---------------------------------------------------------------------------\u001b[0m",
      "\u001b[0;31mTypeError\u001b[0m                                 Traceback (most recent call last)",
      "\u001b[0;32m<ipython-input-68-a9c7575de7d1>\u001b[0m in \u001b[0;36m<module>\u001b[0;34m\u001b[0m\n\u001b[1;32m      1\u001b[0m \u001b[0;31m##floting point is not allow\u001b[0m\u001b[0;34m\u001b[0m\u001b[0;34m\u001b[0m\u001b[0;34m\u001b[0m\u001b[0m\n\u001b[0;32m----> 2\u001b[0;31m \u001b[0mlist\u001b[0m\u001b[0;34m(\u001b[0m\u001b[0mrange\u001b[0m\u001b[0;34m(\u001b[0m\u001b[0;36m10\u001b[0m\u001b[0;34m,\u001b[0m\u001b[0;36m3.5\u001b[0m\u001b[0;34m,\u001b[0m\u001b[0;34m-\u001b[0m\u001b[0;36m1\u001b[0m\u001b[0;34m)\u001b[0m\u001b[0;34m)\u001b[0m\u001b[0;34m\u001b[0m\u001b[0;34m\u001b[0m\u001b[0m\n\u001b[0m",
      "\u001b[0;31mTypeError\u001b[0m: 'float' object cannot be interpreted as an integer"
     ]
    }
   ],
   "source": [
    "##floting point is not allow\n",
    "list(range(10,3.5,-1))"
   ]
  },
  {
   "cell_type": "code",
   "execution_count": 69,
   "id": "4c1c9144",
   "metadata": {},
   "outputs": [
    {
     "name": "stdout",
     "output_type": "stream",
     "text": [
      "3\n",
      "4\n",
      "5\n",
      "6\n",
      "7\n",
      "8\n",
      "23\n",
      "4\n",
      "5\n",
      "5\n"
     ]
    }
   ],
   "source": [
    "## Looping oprations\n",
    "l=[3,4,5,6,7,8,23,4,5,5]\n",
    "\n",
    "## using for loop \n",
    "for i in l: ## i is a locale variable\n",
    "    print(i)"
   ]
  },
  {
   "cell_type": "code",
   "execution_count": 70,
   "id": "89e23bf2",
   "metadata": {},
   "outputs": [
    {
     "name": "stdout",
     "output_type": "stream",
     "text": [
      "5\n",
      "6\n",
      "7\n",
      "8\n",
      "9\n",
      "10\n",
      "25\n",
      "6\n",
      "7\n",
      "7\n"
     ]
    }
   ],
   "source": [
    "## if try i+2\n",
    "for i in l:\n",
    "    print(i+2)"
   ]
  },
  {
   "cell_type": "code",
   "execution_count": 71,
   "id": "c9b9d244",
   "metadata": {},
   "outputs": [],
   "source": [
    "## using append\n",
    "l=[3,4,5,6,7,8,23,4,5,5]\n",
    "m=[]\n",
    "for i in l:\n",
    "    m.append(i+2)"
   ]
  },
  {
   "cell_type": "code",
   "execution_count": 72,
   "id": "450c8662",
   "metadata": {},
   "outputs": [
    {
     "data": {
      "text/plain": [
       "[5, 6, 7, 8, 9, 10, 25, 6, 7, 7]"
      ]
     },
     "execution_count": 72,
     "metadata": {},
     "output_type": "execute_result"
    }
   ],
   "source": [
    "m"
   ]
  },
  {
   "cell_type": "code",
   "execution_count": 73,
   "id": "0be61107",
   "metadata": {},
   "outputs": [],
   "source": [
    "l=[3,4,5,6,7,8,23,4,5,5]\n",
    "m=[]\n",
    "for i in range (len(l)):\n",
    "       m.append(l[i]+2)"
   ]
  },
  {
   "cell_type": "code",
   "execution_count": 74,
   "id": "97d5d835",
   "metadata": {},
   "outputs": [
    {
     "data": {
      "text/plain": [
       "10"
      ]
     },
     "execution_count": 74,
     "metadata": {},
     "output_type": "execute_result"
    }
   ],
   "source": [
    "len(l)"
   ]
  },
  {
   "cell_type": "code",
   "execution_count": 75,
   "id": "d133835a",
   "metadata": {},
   "outputs": [
    {
     "data": {
      "text/plain": [
       "[5, 6, 7, 8, 9, 10, 25, 6, 7, 7]"
      ]
     },
     "execution_count": 75,
     "metadata": {},
     "output_type": "execute_result"
    }
   ],
   "source": [
    "m"
   ]
  },
  {
   "cell_type": "code",
   "execution_count": 76,
   "id": "03e6b4ea",
   "metadata": {},
   "outputs": [],
   "source": [
    "## if and else\n",
    "l=[3,4,5,6,7,8,23,4,5,5]\n",
    "m=[]\n",
    "for i in l:\n",
    "    if i>=10:\n",
    "        m.append(i+2)"
   ]
  },
  {
   "cell_type": "code",
   "execution_count": 77,
   "id": "90b4d485",
   "metadata": {},
   "outputs": [
    {
     "data": {
      "text/plain": [
       "10"
      ]
     },
     "execution_count": 77,
     "metadata": {},
     "output_type": "execute_result"
    }
   ],
   "source": [
    "len(l)"
   ]
  },
  {
   "cell_type": "code",
   "execution_count": 78,
   "id": "ddce6246",
   "metadata": {},
   "outputs": [
    {
     "data": {
      "text/plain": [
       "[25]"
      ]
     },
     "execution_count": 78,
     "metadata": {},
     "output_type": "execute_result"
    }
   ],
   "source": [
    "m"
   ]
  },
  {
   "cell_type": "code",
   "execution_count": 79,
   "id": "d7508f41",
   "metadata": {},
   "outputs": [
    {
     "name": "stdout",
     "output_type": "stream",
     "text": [
      "yes this data is lesser than 50\n"
     ]
    }
   ],
   "source": [
    "s=10\n",
    "if s>10:\n",
    "    print(\"yes it is leaser then 10\")\n",
    "elif s<50:\n",
    "    print(\"yes this data is lesser than 50\")"
   ]
  },
  {
   "cell_type": "code",
   "execution_count": 82,
   "id": "1ecf9c6e",
   "metadata": {},
   "outputs": [
    {
     "name": "stdout",
     "output_type": "stream",
     "text": [
      "5\n"
     ]
    },
    {
     "data": {
      "text/plain": [
       "'5'"
      ]
     },
     "execution_count": 82,
     "metadata": {},
     "output_type": "execute_result"
    }
   ],
   "source": [
    "## for taking input for user\n",
    "input()"
   ]
  },
  {
   "cell_type": "code",
   "execution_count": 83,
   "id": "b54ddc53",
   "metadata": {},
   "outputs": [
    {
     "name": "stdout",
     "output_type": "stream",
     "text": [
      "7\n"
     ]
    },
    {
     "data": {
      "text/plain": [
       "str"
      ]
     },
     "execution_count": 83,
     "metadata": {},
     "output_type": "execute_result"
    }
   ],
   "source": [
    "## input type alwayes show \"str\"\n",
    "type(input())"
   ]
  },
  {
   "cell_type": "code",
   "execution_count": 84,
   "id": "22c67671",
   "metadata": {},
   "outputs": [
    {
     "name": "stdout",
     "output_type": "stream",
     "text": [
      "4\n"
     ]
    },
    {
     "data": {
      "text/plain": [
       "int"
      ]
     },
     "execution_count": 84,
     "metadata": {},
     "output_type": "execute_result"
    }
   ],
   "source": [
    "## typecast\n",
    "a=input()\n",
    "b=int(a)\n",
    "type(b)"
   ]
  },
  {
   "cell_type": "code",
   "execution_count": 85,
   "id": "b7264cdd",
   "metadata": {},
   "outputs": [
    {
     "name": "stdout",
     "output_type": "stream",
     "text": [
      "8\n"
     ]
    },
    {
     "data": {
      "text/plain": [
       "int"
      ]
     },
     "execution_count": 85,
     "metadata": {},
     "output_type": "execute_result"
    }
   ],
   "source": [
    "##but\n",
    "a=input()\n",
    "b=int(a)\n",
    "type(b)"
   ]
  },
  {
   "cell_type": "code",
   "execution_count": 86,
   "id": "b542be51",
   "metadata": {},
   "outputs": [
    {
     "name": "stdout",
     "output_type": "stream",
     "text": [
      "7\n"
     ]
    },
    {
     "data": {
      "text/plain": [
       "[]"
      ]
     },
     "execution_count": 86,
     "metadata": {},
     "output_type": "execute_result"
    }
   ],
   "source": [
    "a=input()\n",
    "l=[1,2,3,4,6,7,5,5,6,7,8,9,9]\n",
    "m=[]\n",
    "for i in l:\n",
    "    if i==a:\n",
    "        m.append(i)\n",
    "m        "
   ]
  },
  {
   "cell_type": "code",
   "execution_count": 87,
   "id": "3f02a342",
   "metadata": {},
   "outputs": [],
   "source": [
    "## it's not a good condition ,and it is not give us any output because we not provide the type of our \"a\""
   ]
  },
  {
   "cell_type": "code",
   "execution_count": 88,
   "id": "d5c74dbc",
   "metadata": {},
   "outputs": [
    {
     "name": "stdout",
     "output_type": "stream",
     "text": [
      "9\n"
     ]
    },
    {
     "data": {
      "text/plain": [
       "[9, 9]"
      ]
     },
     "execution_count": 88,
     "metadata": {},
     "output_type": "execute_result"
    }
   ],
   "source": [
    "## Now\n",
    "a=int(input())\n",
    "l=[1,2,3,4,6,7,5,5,5,5,6,7,8,9,9]\n",
    "m=[]\n",
    "for i in l:\n",
    "    if i==a:\n",
    "        m.append(i)\n",
    "m        "
   ]
  },
  {
   "cell_type": "code",
   "execution_count": 89,
   "id": "bef2bbb9",
   "metadata": {},
   "outputs": [
    {
     "name": "stdout",
     "output_type": "stream",
     "text": [
      "5\n"
     ]
    },
    {
     "data": {
      "text/plain": [
       "[5, 5, 5, 5]"
      ]
     },
     "execution_count": 89,
     "metadata": {},
     "output_type": "execute_result"
    }
   ],
   "source": [
    "## now\n",
    "a=int(input())\n",
    "l=[1,2,3,4,6,7,5,5,5,5,6,7,8,9,9]\n",
    "m=[]\n",
    "for i in l:\n",
    "    if i==a:\n",
    "        m.append(i)\n",
    "m        "
   ]
  },
  {
   "cell_type": "code",
   "execution_count": 97,
   "id": "080abc56",
   "metadata": {},
   "outputs": [
    {
     "name": "stdout",
     "output_type": "stream",
     "text": [
      "inseart only an integer4\n",
      "integer inserted\n"
     ]
    },
    {
     "data": {
      "text/plain": [
       "[4]"
      ]
     },
     "execution_count": 97,
     "metadata": {},
     "output_type": "execute_result"
    }
   ],
   "source": [
    "a=int(input(\"inseart only an integer\"))\n",
    "print(\"integer inserted\")\n",
    "l=[1,2,3,4,6,7,5,5,5,5,6,7,8,9,9]\n",
    "m=[]\n",
    "for i in l:\n",
    "    if i==a:\n",
    "        m.append(i)\n",
    "m        "
   ]
  },
  {
   "cell_type": "markdown",
   "id": "b13a3313",
   "metadata": {},
   "source": [
    "Some Case"
   ]
  },
  {
   "cell_type": "code",
   "execution_count": 98,
   "id": "1afbe7e6",
   "metadata": {},
   "outputs": [
    {
     "data": {
      "text/plain": [
       "'vivekkumar'"
      ]
     },
     "execution_count": 98,
     "metadata": {},
     "output_type": "execute_result"
    }
   ],
   "source": [
    "\"vivek\" + \"kumar\""
   ]
  },
  {
   "cell_type": "code",
   "execution_count": 99,
   "id": "8214e45f",
   "metadata": {},
   "outputs": [
    {
     "ename": "TypeError",
     "evalue": "can only concatenate str (not \"int\") to str",
     "output_type": "error",
     "traceback": [
      "\u001b[0;31m---------------------------------------------------------------------------\u001b[0m",
      "\u001b[0;31mTypeError\u001b[0m                                 Traceback (most recent call last)",
      "\u001b[0;32m<ipython-input-99-9920eb79fb1c>\u001b[0m in \u001b[0;36m<module>\u001b[0;34m\u001b[0m\n\u001b[0;32m----> 1\u001b[0;31m \u001b[0;34m\"vivek\"\u001b[0m \u001b[0;34m+\u001b[0m \u001b[0;36m1\u001b[0m \u001b[0;31m## Not posiable\u001b[0m\u001b[0;34m\u001b[0m\u001b[0;34m\u001b[0m\u001b[0m\n\u001b[0m",
      "\u001b[0;31mTypeError\u001b[0m: can only concatenate str (not \"int\") to str"
     ]
    }
   ],
   "source": [
    "\"vivek\" + 1 ## Not posiable"
   ]
  },
  {
   "cell_type": "code",
   "execution_count": 100,
   "id": "72e13ad7",
   "metadata": {},
   "outputs": [
    {
     "data": {
      "text/plain": [
       "'vivek1'"
      ]
     },
     "execution_count": 100,
     "metadata": {},
     "output_type": "execute_result"
    }
   ],
   "source": [
    "## we can do this\n",
    "\"vivek\" + \"1\""
   ]
  },
  {
   "cell_type": "code",
   "execution_count": 101,
   "id": "2f616b54",
   "metadata": {},
   "outputs": [
    {
     "data": {
      "text/plain": [
       "'vivek1'"
      ]
     },
     "execution_count": 101,
     "metadata": {},
     "output_type": "execute_result"
    }
   ],
   "source": [
    "\"vivek\" + str(1) ##we can write"
   ]
  },
  {
   "cell_type": "code",
   "execution_count": 104,
   "id": "66553811",
   "metadata": {},
   "outputs": [
    {
     "ename": "TypeError",
     "evalue": "can only concatenate list (not \"str\") to list",
     "output_type": "error",
     "traceback": [
      "\u001b[0;31m---------------------------------------------------------------------------\u001b[0m",
      "\u001b[0;31mTypeError\u001b[0m                                 Traceback (most recent call last)",
      "\u001b[0;32m<ipython-input-104-23f148f5a91e>\u001b[0m in \u001b[0;36m<module>\u001b[0;34m\u001b[0m\n\u001b[0;32m----> 1\u001b[0;31m \u001b[0;34m[\u001b[0m\u001b[0;36m1\u001b[0m\u001b[0;34m,\u001b[0m\u001b[0;36m2\u001b[0m\u001b[0;34m,\u001b[0m\u001b[0;36m3\u001b[0m\u001b[0;34m,\u001b[0m\u001b[0;36m4\u001b[0m\u001b[0;34m,\u001b[0m\u001b[0;36m5\u001b[0m\u001b[0;34m,\u001b[0m\u001b[0;36m6\u001b[0m\u001b[0;34m]\u001b[0m \u001b[0;34m+\u001b[0m \u001b[0;34m\"vivek\"\u001b[0m \u001b[0;31m## wrong way\u001b[0m\u001b[0;34m\u001b[0m\u001b[0;34m\u001b[0m\u001b[0m\n\u001b[0m",
      "\u001b[0;31mTypeError\u001b[0m: can only concatenate list (not \"str\") to list"
     ]
    }
   ],
   "source": [
    "[1,2,3,4,5,6] + \"vivek\" ## wrong way"
   ]
  },
  {
   "cell_type": "code",
   "execution_count": 105,
   "id": "4f02db60",
   "metadata": {},
   "outputs": [
    {
     "data": {
      "text/plain": [
       "[1, 2, 3, 4, 5, 6, 'vivek']"
      ]
     },
     "execution_count": 105,
     "metadata": {},
     "output_type": "execute_result"
    }
   ],
   "source": [
    "[1,2,3,4,5,6] + [\"vivek\"] ## right way"
   ]
  },
  {
   "cell_type": "code",
   "execution_count": null,
   "id": "32f3791b",
   "metadata": {},
   "outputs": [],
   "source": []
  }
 ],
 "metadata": {
  "kernelspec": {
   "display_name": "Python 3",
   "language": "python",
   "name": "python3"
  },
  "language_info": {
   "codemirror_mode": {
    "name": "ipython",
    "version": 3
   },
   "file_extension": ".py",
   "mimetype": "text/x-python",
   "name": "python",
   "nbconvert_exporter": "python",
   "pygments_lexer": "ipython3",
   "version": "3.9.5"
  }
 },
 "nbformat": 4,
 "nbformat_minor": 5
}
