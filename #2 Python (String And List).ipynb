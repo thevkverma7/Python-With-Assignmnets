{
 "cells": [
  {
   "cell_type": "code",
   "execution_count": 7,
   "id": "0e78fa5e",
   "metadata": {},
   "outputs": [],
   "source": [
    "## ceating a string\n",
    "s=\"vivek\""
   ]
  },
  {
   "cell_type": "code",
   "execution_count": 8,
   "id": "d97a3696",
   "metadata": {},
   "outputs": [
    {
     "data": {
      "text/plain": [
       "'vivek1'"
      ]
     },
     "execution_count": 8,
     "metadata": {},
     "output_type": "execute_result"
    }
   ],
   "source": [
    "s + str(1)"
   ]
  },
  {
   "cell_type": "code",
   "execution_count": 4,
   "id": "1449eed0",
   "metadata": {},
   "outputs": [
    {
     "data": {
      "text/plain": [
       "'vivekvivekvivekvivekvivekvivekvivekvivekvivekvivek'"
      ]
     },
     "execution_count": 4,
     "metadata": {},
     "output_type": "execute_result"
    }
   ],
   "source": [
    "s*10"
   ]
  },
  {
   "cell_type": "code",
   "execution_count": 9,
   "id": "5e20ae42",
   "metadata": {},
   "outputs": [
    {
     "data": {
      "text/plain": [
       "[1, 2, 3, 4, 'vivek', 1, 2, 3, 4, 'vivek', 1, 2, 3, 4, 'vivek']"
      ]
     },
     "execution_count": 9,
     "metadata": {},
     "output_type": "execute_result"
    }
   ],
   "source": [
    "[1,2,3,4,\"vivek\"]*3"
   ]
  },
  {
   "cell_type": "code",
   "execution_count": 10,
   "id": "89a5be92",
   "metadata": {},
   "outputs": [
    {
     "data": {
      "text/plain": [
       "'VIVEK'"
      ]
     },
     "execution_count": 10,
     "metadata": {},
     "output_type": "execute_result"
    }
   ],
   "source": [
    "s.upper()"
   ]
  },
  {
   "cell_type": "code",
   "execution_count": 11,
   "id": "5107cda3",
   "metadata": {},
   "outputs": [],
   "source": [
    "a=\"VIvek\""
   ]
  },
  {
   "cell_type": "code",
   "execution_count": 12,
   "id": "42e82539",
   "metadata": {},
   "outputs": [
    {
     "data": {
      "text/plain": [
       "'vivek'"
      ]
     },
     "execution_count": 12,
     "metadata": {},
     "output_type": "execute_result"
    }
   ],
   "source": [
    "a.lower()"
   ]
  },
  {
   "cell_type": "code",
   "execution_count": 13,
   "id": "2d297d1d",
   "metadata": {},
   "outputs": [],
   "source": [
    "a='vivek kumar verma my name is'"
   ]
  },
  {
   "cell_type": "code",
   "execution_count": 15,
   "id": "188cb1e5",
   "metadata": {},
   "outputs": [
    {
     "data": {
      "text/plain": [
       "['vivek', 'kumar', 'verma', 'my', 'name', 'is']"
      ]
     },
     "execution_count": 15,
     "metadata": {},
     "output_type": "execute_result"
    }
   ],
   "source": [
    "## ceating hole data in a list\n",
    "a.split()"
   ]
  },
  {
   "cell_type": "code",
   "execution_count": 30,
   "id": "c07f5b23",
   "metadata": {},
   "outputs": [
    {
     "data": {
      "text/plain": [
       "['vivek@kumar@verma@my@name@is']"
      ]
     },
     "execution_count": 30,
     "metadata": {},
     "output_type": "execute_result"
    }
   ],
   "source": [
    "a='vivek@kumar@verma@my@name@is'\n",
    "a.split()"
   ]
  },
  {
   "cell_type": "code",
   "execution_count": 31,
   "id": "15f0dd13",
   "metadata": {},
   "outputs": [
    {
     "data": {
      "text/plain": [
       "['vivek', 'kumar', 'verma', 'my', 'name', 'is']"
      ]
     },
     "execution_count": 31,
     "metadata": {},
     "output_type": "execute_result"
    }
   ],
   "source": [
    "## then we use sepreter\n",
    "a.split('@')\n",
    "##type(a.split('@'))"
   ]
  },
  {
   "cell_type": "code",
   "execution_count": 32,
   "id": "56a3995c",
   "metadata": {},
   "outputs": [],
   "source": [
    "a=\"vivekAkumAr\""
   ]
  },
  {
   "cell_type": "code",
   "execution_count": 33,
   "id": "2a826e0c",
   "metadata": {},
   "outputs": [
    {
     "data": {
      "text/plain": [
       "('vivek', 'A', 'kumAr')"
      ]
     },
     "execution_count": 33,
     "metadata": {},
     "output_type": "execute_result"
    }
   ],
   "source": [
    "## using partition\n",
    "a.partition('A') ## partition not seprate the other \"A\""
   ]
  },
  {
   "cell_type": "code",
   "execution_count": 34,
   "id": "042342c6",
   "metadata": {},
   "outputs": [
    {
     "data": {
      "text/plain": [
       "tuple"
      ]
     },
     "execution_count": 34,
     "metadata": {},
     "output_type": "execute_result"
    }
   ],
   "source": [
    "type(a.partition('A'))"
   ]
  },
  {
   "cell_type": "code",
   "execution_count": 35,
   "id": "af771b3e",
   "metadata": {},
   "outputs": [],
   "source": [
    "d = \"sdukfiuasdnaskd\""
   ]
  },
  {
   "cell_type": "code",
   "execution_count": 36,
   "id": "fddfe859",
   "metadata": {},
   "outputs": [
    {
     "data": {
      "text/plain": [
       "2"
      ]
     },
     "execution_count": 36,
     "metadata": {},
     "output_type": "execute_result"
    }
   ],
   "source": [
    "## find the index of any frist\n",
    "d.find('u')"
   ]
  },
  {
   "cell_type": "code",
   "execution_count": 37,
   "id": "00f043a7",
   "metadata": {},
   "outputs": [],
   "source": [
    "f=\"vivek\""
   ]
  },
  {
   "cell_type": "code",
   "execution_count": 39,
   "id": "e9d8b7b8",
   "metadata": {},
   "outputs": [
    {
     "data": {
      "text/plain": [
       "'aaaaaaaaaaaaaaaaaaaaaavivekaaaaaaaaaaaaaaaaaaaaaaa'"
      ]
     },
     "execution_count": 39,
     "metadata": {},
     "output_type": "execute_result"
    }
   ],
   "source": [
    "f.center(50,'a')"
   ]
  },
  {
   "cell_type": "code",
   "execution_count": 41,
   "id": "df2e72c4",
   "metadata": {},
   "outputs": [
    {
     "ename": "TypeError",
     "evalue": "The fill character must be exactly one character long",
     "output_type": "error",
     "traceback": [
      "\u001b[0;31m---------------------------------------------------------------------------\u001b[0m",
      "\u001b[0;31mTypeError\u001b[0m                                 Traceback (most recent call last)",
      "\u001b[0;32m<ipython-input-41-a69b6ee7c59b>\u001b[0m in \u001b[0;36m<module>\u001b[0;34m\u001b[0m\n\u001b[0;32m----> 1\u001b[0;31m \u001b[0mf\u001b[0m\u001b[0;34m.\u001b[0m\u001b[0mcenter\u001b[0m\u001b[0;34m(\u001b[0m\u001b[0;36m50\u001b[0m\u001b[0;34m,\u001b[0m\u001b[0;34m'gt'\u001b[0m\u001b[0;34m)\u001b[0m \u001b[0;31m## we can not pass\u001b[0m\u001b[0;34m\u001b[0m\u001b[0;34m\u001b[0m\u001b[0m\n\u001b[0m",
      "\u001b[0;31mTypeError\u001b[0m: The fill character must be exactly one character long"
     ]
    }
   ],
   "source": [
    "f.center(50,'gt') ## we can not pass "
   ]
  },
  {
   "cell_type": "code",
   "execution_count": 42,
   "id": "8ec97f74",
   "metadata": {},
   "outputs": [
    {
     "data": {
      "text/plain": [
       "['vivek', 'kumar']"
      ]
     },
     "execution_count": 42,
     "metadata": {},
     "output_type": "execute_result"
    }
   ],
   "source": [
    "'vivek\\tkumar'.split('\\t')"
   ]
  },
  {
   "cell_type": "code",
   "execution_count": 45,
   "id": "cde036d6",
   "metadata": {},
   "outputs": [
    {
     "data": {
      "text/plain": [
       "'vivek   kumar   verma'"
      ]
     },
     "execution_count": 45,
     "metadata": {},
     "output_type": "execute_result"
    }
   ],
   "source": [
    "'vivek\\tkumar\\tverma'.expandtabs()"
   ]
  },
  {
   "cell_type": "code",
   "execution_count": 46,
   "id": "945780ae",
   "metadata": {},
   "outputs": [
    {
     "data": {
      "text/plain": [
       "'my name is vivek kumar'"
      ]
     },
     "execution_count": 46,
     "metadata": {},
     "output_type": "execute_result"
    }
   ],
   "source": [
    "'my name is {} kumar'.format('vivek')"
   ]
  },
  {
   "cell_type": "code",
   "execution_count": 47,
   "id": "ec05f193",
   "metadata": {},
   "outputs": [
    {
     "name": "stdout",
     "output_type": "stream",
     "text": [
      "please give your namevivek\n"
     ]
    },
    {
     "data": {
      "text/plain": [
       "'my name is vivek'"
      ]
     },
     "execution_count": 47,
     "metadata": {},
     "output_type": "execute_result"
    }
   ],
   "source": [
    "a=input(\"please give your name\")\n",
    "\"my name is {}\".format(a)"
   ]
  },
  {
   "cell_type": "code",
   "execution_count": 49,
   "id": "0ffcccd7",
   "metadata": {},
   "outputs": [
    {
     "name": "stdout",
     "output_type": "stream",
     "text": [
      "please give me your frist namevivek\n",
      "please give me your last nameverma\n"
     ]
    },
    {
     "data": {
      "text/plain": [
       "'my name is vivek verma'"
      ]
     },
     "execution_count": 49,
     "metadata": {},
     "output_type": "execute_result"
    }
   ],
   "source": [
    "a=input(\"please give me your frist name\")\n",
    "b=input(\"please give me your last name\")\n",
    "\n",
    "\"my name is {} {}\".format(a,b)"
   ]
  },
  {
   "cell_type": "code",
   "execution_count": 54,
   "id": "d6e3016e",
   "metadata": {},
   "outputs": [],
   "source": [
    "s='hello'"
   ]
  },
  {
   "cell_type": "code",
   "execution_count": 55,
   "id": "4c3df050",
   "metadata": {},
   "outputs": [
    {
     "data": {
      "text/plain": [
       "True"
      ]
     },
     "execution_count": 55,
     "metadata": {},
     "output_type": "execute_result"
    }
   ],
   "source": [
    "s.isalnum()"
   ]
  },
  {
   "cell_type": "code",
   "execution_count": 56,
   "id": "8591a57f",
   "metadata": {},
   "outputs": [
    {
     "data": {
      "text/plain": [
       "True"
      ]
     },
     "execution_count": 56,
     "metadata": {},
     "output_type": "execute_result"
    }
   ],
   "source": [
    "s.isalpha()"
   ]
  },
  {
   "cell_type": "code",
   "execution_count": 57,
   "id": "ec32a4ea",
   "metadata": {},
   "outputs": [
    {
     "data": {
      "text/plain": [
       "True"
      ]
     },
     "execution_count": 57,
     "metadata": {},
     "output_type": "execute_result"
    }
   ],
   "source": [
    "s.islower()"
   ]
  },
  {
   "cell_type": "code",
   "execution_count": 58,
   "id": "dbdbb774",
   "metadata": {},
   "outputs": [
    {
     "data": {
      "text/plain": [
       "False"
      ]
     },
     "execution_count": 58,
     "metadata": {},
     "output_type": "execute_result"
    }
   ],
   "source": [
    "s.isupper()"
   ]
  },
  {
   "cell_type": "code",
   "execution_count": 59,
   "id": "868749a8",
   "metadata": {},
   "outputs": [],
   "source": [
    "s=\"DSGSGSHH\""
   ]
  },
  {
   "cell_type": "code",
   "execution_count": 60,
   "id": "1d8e1758",
   "metadata": {},
   "outputs": [
    {
     "data": {
      "text/plain": [
       "False"
      ]
     },
     "execution_count": 60,
     "metadata": {},
     "output_type": "execute_result"
    }
   ],
   "source": [
    "s.istitle()"
   ]
  },
  {
   "cell_type": "code",
   "execution_count": 61,
   "id": "f8edb115",
   "metadata": {},
   "outputs": [],
   "source": [
    "## because title start with upper then all is lower"
   ]
  },
  {
   "cell_type": "code",
   "execution_count": 62,
   "id": "7634c29f",
   "metadata": {},
   "outputs": [],
   "source": [
    "s='Hdjdjdjj'"
   ]
  },
  {
   "cell_type": "code",
   "execution_count": 63,
   "id": "64af407e",
   "metadata": {},
   "outputs": [
    {
     "data": {
      "text/plain": [
       "True"
      ]
     },
     "execution_count": 63,
     "metadata": {},
     "output_type": "execute_result"
    }
   ],
   "source": [
    "s.istitle()"
   ]
  },
  {
   "cell_type": "code",
   "execution_count": 64,
   "id": "57c66945",
   "metadata": {},
   "outputs": [
    {
     "data": {
      "text/plain": [
       "8"
      ]
     },
     "execution_count": 64,
     "metadata": {},
     "output_type": "execute_result"
    }
   ],
   "source": [
    "len(s)"
   ]
  },
  {
   "cell_type": "code",
   "execution_count": 65,
   "id": "ebe557d6",
   "metadata": {},
   "outputs": [
    {
     "name": "stdout",
     "output_type": "stream",
     "text": [
      "Hdjdjdjj\n"
     ]
    }
   ],
   "source": [
    "print(s)"
   ]
  },
  {
   "cell_type": "code",
   "execution_count": 67,
   "id": "cfd73a32",
   "metadata": {},
   "outputs": [],
   "source": [
    "##Now List"
   ]
  },
  {
   "cell_type": "code",
   "execution_count": 98,
   "id": "8df1235d",
   "metadata": {},
   "outputs": [],
   "source": [
    "a=[1,2,3,4,5,'hello','vivek',4.56,[3,4,5]]\n",
    "b=[4,5,6,7,8,'my','name']"
   ]
  },
  {
   "cell_type": "code",
   "execution_count": 99,
   "id": "1de5d4f4",
   "metadata": {},
   "outputs": [
    {
     "data": {
      "text/plain": [
       "[1, 2, 3, 4, 5, 'hello', 'vivek', 4.56, [3, 4, 5]]"
      ]
     },
     "execution_count": 99,
     "metadata": {},
     "output_type": "execute_result"
    }
   ],
   "source": [
    "m=[]\n",
    "for i in a:\n",
    "    m.append(i)\n",
    "m    "
   ]
  },
  {
   "cell_type": "code",
   "execution_count": 100,
   "id": "7e4a6c7a",
   "metadata": {},
   "outputs": [
    {
     "data": {
      "text/plain": [
       "[1, 2, 3, 4, 5, 'hello', 'vivek', 4.56, [3, 4, 5], 4, 5, 6, 7, 8, 'my', 'name']"
      ]
     },
     "execution_count": 100,
     "metadata": {},
     "output_type": "execute_result"
    }
   ],
   "source": [
    "a+b"
   ]
  },
  {
   "cell_type": "code",
   "execution_count": 101,
   "id": "5aaab5e9",
   "metadata": {},
   "outputs": [
    {
     "data": {
      "text/plain": [
       "[1, 2, 3, 4, 5, 'hello', 'vivek', 4.56, [3, 4, 5], 4, 5, 6, 7, 8, 'my', 'name']"
      ]
     },
     "execution_count": 101,
     "metadata": {},
     "output_type": "execute_result"
    }
   ],
   "source": [
    "(a+b)*1"
   ]
  },
  {
   "cell_type": "code",
   "execution_count": 102,
   "id": "ae4e721e",
   "metadata": {},
   "outputs": [
    {
     "ename": "TypeError",
     "evalue": "can only concatenate list (not \"str\") to list",
     "output_type": "error",
     "traceback": [
      "\u001b[0;31m---------------------------------------------------------------------------\u001b[0m",
      "\u001b[0;31mTypeError\u001b[0m                                 Traceback (most recent call last)",
      "\u001b[0;32m<ipython-input-102-f3e4d4b0cf0d>\u001b[0m in \u001b[0;36m<module>\u001b[0;34m\u001b[0m\n\u001b[1;32m      1\u001b[0m \u001b[0;31m## if we try to add\u001b[0m\u001b[0;34m\u001b[0m\u001b[0;34m\u001b[0m\u001b[0;34m\u001b[0m\u001b[0m\n\u001b[0;32m----> 2\u001b[0;31m \u001b[0mb\u001b[0m \u001b[0;34m+\u001b[0m \u001b[0;34m\"vivek\"\u001b[0m\u001b[0;34m\u001b[0m\u001b[0;34m\u001b[0m\u001b[0m\n\u001b[0m",
      "\u001b[0;31mTypeError\u001b[0m: can only concatenate list (not \"str\") to list"
     ]
    }
   ],
   "source": [
    "## if we try to add\n",
    "b + \"vivek\""
   ]
  },
  {
   "cell_type": "code",
   "execution_count": 103,
   "id": "e7d988fa",
   "metadata": {},
   "outputs": [
    {
     "data": {
      "text/plain": [
       "[4, 5, 6, 7, 8, 'my', 'name', 'v', 'i', 'v', 'e', 'k']"
      ]
     },
     "execution_count": 103,
     "metadata": {},
     "output_type": "execute_result"
    }
   ],
   "source": [
    "## or \n",
    "b + list('vivek')"
   ]
  },
  {
   "cell_type": "code",
   "execution_count": 104,
   "id": "4cbbae12",
   "metadata": {},
   "outputs": [
    {
     "data": {
      "text/plain": [
       "[34]"
      ]
     },
     "execution_count": 104,
     "metadata": {},
     "output_type": "execute_result"
    }
   ],
   "source": [
    "list([34])"
   ]
  },
  {
   "cell_type": "code",
   "execution_count": 105,
   "id": "fd16deb4",
   "metadata": {},
   "outputs": [
    {
     "data": {
      "text/plain": [
       "[4, 5, 6, 7, 8, 'my', 'name']"
      ]
     },
     "execution_count": 105,
     "metadata": {},
     "output_type": "execute_result"
    }
   ],
   "source": [
    "b"
   ]
  },
  {
   "cell_type": "code",
   "execution_count": 106,
   "id": "87563167",
   "metadata": {},
   "outputs": [],
   "source": [
    "b.append(\"vivek\")"
   ]
  },
  {
   "cell_type": "code",
   "execution_count": 107,
   "id": "a6e9eab4",
   "metadata": {},
   "outputs": [
    {
     "data": {
      "text/plain": [
       "[4, 5, 6, 7, 8, 'my', 'name', 'vivek']"
      ]
     },
     "execution_count": 107,
     "metadata": {},
     "output_type": "execute_result"
    }
   ],
   "source": [
    "b"
   ]
  },
  {
   "cell_type": "code",
   "execution_count": 108,
   "id": "d96a5ae7",
   "metadata": {},
   "outputs": [],
   "source": [
    "b.insert(3,'amit')"
   ]
  },
  {
   "cell_type": "code",
   "execution_count": 109,
   "id": "4f0beb33",
   "metadata": {},
   "outputs": [
    {
     "data": {
      "text/plain": [
       "[4, 5, 6, 'amit', 7, 8, 'my', 'name', 'vivek']"
      ]
     },
     "execution_count": 109,
     "metadata": {},
     "output_type": "execute_result"
    }
   ],
   "source": [
    "b"
   ]
  },
  {
   "cell_type": "code",
   "execution_count": 110,
   "id": "0d570c05",
   "metadata": {},
   "outputs": [],
   "source": [
    "b.insert(-1,'atul')"
   ]
  },
  {
   "cell_type": "code",
   "execution_count": 111,
   "id": "e8abad8e",
   "metadata": {},
   "outputs": [
    {
     "data": {
      "text/plain": [
       "[4, 5, 6, 'amit', 7, 8, 'my', 'name', 'atul', 'vivek']"
      ]
     },
     "execution_count": 111,
     "metadata": {},
     "output_type": "execute_result"
    }
   ],
   "source": [
    "b"
   ]
  },
  {
   "cell_type": "code",
   "execution_count": 112,
   "id": "d4eeb648",
   "metadata": {},
   "outputs": [],
   "source": [
    "b.insert(2,[1,2,3,4,5])"
   ]
  },
  {
   "cell_type": "code",
   "execution_count": 113,
   "id": "a6a581bc",
   "metadata": {},
   "outputs": [
    {
     "data": {
      "text/plain": [
       "[4, 5, [1, 2, 3, 4, 5], 6, 'amit', 7, 8, 'my', 'name', 'atul', 'vivek']"
      ]
     },
     "execution_count": 113,
     "metadata": {},
     "output_type": "execute_result"
    }
   ],
   "source": [
    "b"
   ]
  },
  {
   "cell_type": "code",
   "execution_count": 114,
   "id": "8325a66b",
   "metadata": {},
   "outputs": [
    {
     "data": {
      "text/plain": [
       "'vivek'"
      ]
     },
     "execution_count": 114,
     "metadata": {},
     "output_type": "execute_result"
    }
   ],
   "source": [
    "b.pop() ##remove the data from last"
   ]
  },
  {
   "cell_type": "code",
   "execution_count": 115,
   "id": "23966a6a",
   "metadata": {},
   "outputs": [
    {
     "data": {
      "text/plain": [
       "[4, 5, [1, 2, 3, 4, 5], 6, 'amit', 7, 8, 'my', 'name', 'atul']"
      ]
     },
     "execution_count": 115,
     "metadata": {},
     "output_type": "execute_result"
    }
   ],
   "source": [
    "b"
   ]
  },
  {
   "cell_type": "code",
   "execution_count": 116,
   "id": "658a8abb",
   "metadata": {},
   "outputs": [
    {
     "data": {
      "text/plain": [
       "[1, 2, 3, 4, 5]"
      ]
     },
     "execution_count": 116,
     "metadata": {},
     "output_type": "execute_result"
    }
   ],
   "source": [
    "b.pop(2) ##reomve from \"2\" location"
   ]
  },
  {
   "cell_type": "code",
   "execution_count": 117,
   "id": "25713a13",
   "metadata": {},
   "outputs": [
    {
     "data": {
      "text/plain": [
       "[4, 5, 6, 'amit', 7, 8, 'my', 'name', 'atul']"
      ]
     },
     "execution_count": 117,
     "metadata": {},
     "output_type": "execute_result"
    }
   ],
   "source": [
    "b"
   ]
  },
  {
   "cell_type": "code",
   "execution_count": 118,
   "id": "c793ec45",
   "metadata": {},
   "outputs": [
    {
     "data": {
      "text/plain": [
       "['atul', 'name', 'my', 8, 7, 'amit', 6, 5, 4]"
      ]
     },
     "execution_count": 118,
     "metadata": {},
     "output_type": "execute_result"
    }
   ],
   "source": [
    "b[::-1]"
   ]
  },
  {
   "cell_type": "code",
   "execution_count": 119,
   "id": "768f82fb",
   "metadata": {},
   "outputs": [],
   "source": [
    "b.reverse()"
   ]
  },
  {
   "cell_type": "code",
   "execution_count": 120,
   "id": "ded6ce2b",
   "metadata": {},
   "outputs": [
    {
     "data": {
      "text/plain": [
       "['atul', 'name', 'my', 8, 7, 'amit', 6, 5, 4]"
      ]
     },
     "execution_count": 120,
     "metadata": {},
     "output_type": "execute_result"
    }
   ],
   "source": [
    "b"
   ]
  },
  {
   "cell_type": "code",
   "execution_count": 121,
   "id": "f705a606",
   "metadata": {},
   "outputs": [
    {
     "ename": "TypeError",
     "evalue": "'<' not supported between instances of 'int' and 'str'",
     "output_type": "error",
     "traceback": [
      "\u001b[0;31m---------------------------------------------------------------------------\u001b[0m",
      "\u001b[0;31mTypeError\u001b[0m                                 Traceback (most recent call last)",
      "\u001b[0;32m<ipython-input-121-9521e44e4be8>\u001b[0m in \u001b[0;36m<module>\u001b[0;34m\u001b[0m\n\u001b[1;32m      1\u001b[0m \u001b[0;31m## if we try\u001b[0m\u001b[0;34m\u001b[0m\u001b[0;34m\u001b[0m\u001b[0;34m\u001b[0m\u001b[0m\n\u001b[0;32m----> 2\u001b[0;31m \u001b[0mb\u001b[0m\u001b[0;34m.\u001b[0m\u001b[0msort\u001b[0m\u001b[0;34m(\u001b[0m\u001b[0;34m)\u001b[0m\u001b[0;34m\u001b[0m\u001b[0;34m\u001b[0m\u001b[0m\n\u001b[0m",
      "\u001b[0;31mTypeError\u001b[0m: '<' not supported between instances of 'int' and 'str'"
     ]
    }
   ],
   "source": [
    "## if we try\n",
    "b.sort()"
   ]
  },
  {
   "cell_type": "code",
   "execution_count": 124,
   "id": "ad389cc4",
   "metadata": {},
   "outputs": [],
   "source": [
    "## now again try\n",
    "n = [3,4,5,6,\"vivek\",\"verma\"]"
   ]
  },
  {
   "cell_type": "code",
   "execution_count": 125,
   "id": "08fb3064",
   "metadata": {},
   "outputs": [
    {
     "ename": "TypeError",
     "evalue": "'<' not supported between instances of 'str' and 'int'",
     "output_type": "error",
     "traceback": [
      "\u001b[0;31m---------------------------------------------------------------------------\u001b[0m",
      "\u001b[0;31mTypeError\u001b[0m                                 Traceback (most recent call last)",
      "\u001b[0;32m<ipython-input-125-4c82585a7e81>\u001b[0m in \u001b[0;36m<module>\u001b[0;34m\u001b[0m\n\u001b[0;32m----> 1\u001b[0;31m \u001b[0mn\u001b[0m\u001b[0;34m.\u001b[0m\u001b[0msort\u001b[0m\u001b[0;34m(\u001b[0m\u001b[0;34m)\u001b[0m\u001b[0;34m\u001b[0m\u001b[0;34m\u001b[0m\u001b[0m\n\u001b[0m",
      "\u001b[0;31mTypeError\u001b[0m: '<' not supported between instances of 'str' and 'int'"
     ]
    }
   ],
   "source": [
    "n.sort()"
   ]
  },
  {
   "cell_type": "code",
   "execution_count": 126,
   "id": "9065b765",
   "metadata": {},
   "outputs": [],
   "source": [
    "n=[\"vivek\",'kumar']"
   ]
  },
  {
   "cell_type": "code",
   "execution_count": 127,
   "id": "d6042448",
   "metadata": {},
   "outputs": [],
   "source": [
    "n.sort()"
   ]
  },
  {
   "cell_type": "code",
   "execution_count": 128,
   "id": "05d77be1",
   "metadata": {},
   "outputs": [
    {
     "data": {
      "text/plain": [
       "['kumar', 'vivek']"
      ]
     },
     "execution_count": 128,
     "metadata": {},
     "output_type": "execute_result"
    }
   ],
   "source": [
    "n"
   ]
  },
  {
   "cell_type": "code",
   "execution_count": 129,
   "id": "f193f324",
   "metadata": {},
   "outputs": [],
   "source": [
    "n=[3,4,5,6,7]"
   ]
  },
  {
   "cell_type": "code",
   "execution_count": 130,
   "id": "10e249c3",
   "metadata": {},
   "outputs": [],
   "source": [
    "n.sort(reverse=True)"
   ]
  },
  {
   "cell_type": "code",
   "execution_count": 131,
   "id": "df021ebe",
   "metadata": {},
   "outputs": [
    {
     "data": {
      "text/plain": [
       "[7, 6, 5, 4, 3]"
      ]
     },
     "execution_count": 131,
     "metadata": {},
     "output_type": "execute_result"
    }
   ],
   "source": [
    "n"
   ]
  },
  {
   "cell_type": "code",
   "execution_count": 147,
   "id": "19a62b4f",
   "metadata": {},
   "outputs": [
    {
     "data": {
      "text/plain": [
       "[[3, 4, 5, 6, 7], [56, 6, 7, 89, 8], [2, 3, 4, 5, 6, 7, 8, 9, 0]]"
      ]
     },
     "execution_count": 147,
     "metadata": {},
     "output_type": "execute_result"
    }
   ],
   "source": [
    "a=[3,4,5,6,7]\n",
    "b=[56,6,7,89,8]\n",
    "c=[2,3,4,5,6,7,8,9,0]\n",
    "\n",
    "d=[a,b,c]\n",
    "d"
   ]
  },
  {
   "cell_type": "code",
   "execution_count": 149,
   "id": "73cfeebc",
   "metadata": {},
   "outputs": [
    {
     "data": {
      "text/plain": [
       "[2, 3, 4, 5, 6, 7, 8, 9, 0]"
      ]
     },
     "execution_count": 149,
     "metadata": {},
     "output_type": "execute_result"
    }
   ],
   "source": [
    "d[-1]"
   ]
  },
  {
   "cell_type": "code",
   "execution_count": 150,
   "id": "97b2202a",
   "metadata": {},
   "outputs": [
    {
     "data": {
      "text/plain": [
       "[2, 4, 6, 8, 0]"
      ]
     },
     "execution_count": 150,
     "metadata": {},
     "output_type": "execute_result"
    }
   ],
   "source": [
    "d[-1][::2]"
   ]
  },
  {
   "cell_type": "code",
   "execution_count": 157,
   "id": "0ede694d",
   "metadata": {},
   "outputs": [],
   "source": [
    "## replace list last to frist\n",
    "m = []\n",
    "d=d[::-1]\n",
    "for b in d:\n",
    "    m.append(b[::-1])"
   ]
  },
  {
   "cell_type": "code",
   "execution_count": 158,
   "id": "b46be219",
   "metadata": {},
   "outputs": [
    {
     "data": {
      "text/plain": [
       "[[2, 3, 4, 5, 6, 7, 8, 9, 0], [56, 6, 7, 89, 8], [3, 4, 5, 6, 7]]"
      ]
     },
     "execution_count": 158,
     "metadata": {},
     "output_type": "execute_result"
    }
   ],
   "source": [
    "d"
   ]
  },
  {
   "cell_type": "code",
   "execution_count": 159,
   "id": "99f8f6a9",
   "metadata": {},
   "outputs": [
    {
     "data": {
      "text/plain": [
       "[[0, 9, 8, 7, 6, 5, 4, 3, 2], [8, 89, 7, 6, 56], [7, 6, 5, 4, 3]]"
      ]
     },
     "execution_count": 159,
     "metadata": {},
     "output_type": "execute_result"
    }
   ],
   "source": [
    "m"
   ]
  },
  {
   "cell_type": "code",
   "execution_count": 160,
   "id": "2d3e7cb3",
   "metadata": {},
   "outputs": [],
   "source": [
    "n=[]\n",
    "for i in m:\n",
    "    n.append(i[2])"
   ]
  },
  {
   "cell_type": "code",
   "execution_count": 161,
   "id": "aea13636",
   "metadata": {},
   "outputs": [
    {
     "data": {
      "text/plain": [
       "[8, 7, 5]"
      ]
     },
     "execution_count": 161,
     "metadata": {},
     "output_type": "execute_result"
    }
   ],
   "source": [
    "n"
   ]
  },
  {
   "cell_type": "code",
   "execution_count": 164,
   "id": "92ba2dc9",
   "metadata": {},
   "outputs": [],
   "source": [
    "n=[]\n",
    "for i in m:\n",
    "    n.append(i[2]*2)"
   ]
  },
  {
   "cell_type": "code",
   "execution_count": 165,
   "id": "de342ccf",
   "metadata": {},
   "outputs": [
    {
     "data": {
      "text/plain": [
       "[16, 14, 10]"
      ]
     },
     "execution_count": 165,
     "metadata": {},
     "output_type": "execute_result"
    }
   ],
   "source": [
    "n"
   ]
  },
  {
   "cell_type": "code",
   "execution_count": 168,
   "id": "694754f7",
   "metadata": {},
   "outputs": [
    {
     "data": {
      "text/plain": [
       "[{16}, {14}, {10}]"
      ]
     },
     "execution_count": 168,
     "metadata": {},
     "output_type": "execute_result"
    }
   ],
   "source": [
    "[{i[2]*2} for i in m]"
   ]
  },
  {
   "cell_type": "code",
   "execution_count": 169,
   "id": "d24eff65",
   "metadata": {},
   "outputs": [],
   "source": [
    "s=[1,2,3,4,5,5]"
   ]
  },
  {
   "cell_type": "code",
   "execution_count": 171,
   "id": "17b3405e",
   "metadata": {},
   "outputs": [],
   "source": [
    "s.append([3,2,4,5,6,4])"
   ]
  },
  {
   "cell_type": "code",
   "execution_count": 172,
   "id": "9ea4d144",
   "metadata": {},
   "outputs": [
    {
     "data": {
      "text/plain": [
       "[1, 2, 3, 4, 5, 5, [3, 2, 4, 5, 6, 4]]"
      ]
     },
     "execution_count": 172,
     "metadata": {},
     "output_type": "execute_result"
    }
   ],
   "source": [
    "s"
   ]
  },
  {
   "cell_type": "code",
   "execution_count": 173,
   "id": "7966122a",
   "metadata": {},
   "outputs": [],
   "source": [
    "s.extend([6,7,8,\"dss\"])"
   ]
  },
  {
   "cell_type": "code",
   "execution_count": 174,
   "id": "72fc67e9",
   "metadata": {},
   "outputs": [
    {
     "data": {
      "text/plain": [
       "[1, 2, 3, 4, 5, 5, [3, 2, 4, 5, 6, 4], 6, 7, 8, 'dss']"
      ]
     },
     "execution_count": 174,
     "metadata": {},
     "output_type": "execute_result"
    }
   ],
   "source": [
    "s"
   ]
  },
  {
   "cell_type": "code",
   "execution_count": 176,
   "id": "eeaf452f",
   "metadata": {},
   "outputs": [],
   "source": [
    "s.extend([7,8,9,[6,7,8,\"dss\"]])"
   ]
  },
  {
   "cell_type": "code",
   "execution_count": 177,
   "id": "0fa78793",
   "metadata": {},
   "outputs": [
    {
     "data": {
      "text/plain": [
       "[1,\n",
       " 2,\n",
       " 3,\n",
       " 4,\n",
       " 5,\n",
       " 5,\n",
       " [3, 2, 4, 5, 6, 4],\n",
       " 6,\n",
       " 7,\n",
       " 8,\n",
       " 'dss',\n",
       " 7,\n",
       " 8,\n",
       " 9,\n",
       " [6, 7, 8, 'dss']]"
      ]
     },
     "execution_count": 177,
     "metadata": {},
     "output_type": "execute_result"
    }
   ],
   "source": [
    "s"
   ]
  },
  {
   "cell_type": "code",
   "execution_count": 179,
   "id": "a7b77986",
   "metadata": {},
   "outputs": [
    {
     "data": {
      "text/plain": [
       "4"
      ]
     },
     "execution_count": 179,
     "metadata": {},
     "output_type": "execute_result"
    }
   ],
   "source": [
    "s.index(5)"
   ]
  },
  {
   "cell_type": "code",
   "execution_count": 181,
   "id": "ccc71923",
   "metadata": {},
   "outputs": [
    {
     "ename": "AttributeError",
     "evalue": "'list' object has no attribute 'find'",
     "output_type": "error",
     "traceback": [
      "\u001b[0;31m---------------------------------------------------------------------------\u001b[0m",
      "\u001b[0;31mAttributeError\u001b[0m                            Traceback (most recent call last)",
      "\u001b[0;32m<ipython-input-181-fbbf85a083ca>\u001b[0m in \u001b[0;36m<module>\u001b[0;34m\u001b[0m\n\u001b[0;32m----> 1\u001b[0;31m \u001b[0ms\u001b[0m\u001b[0;34m.\u001b[0m\u001b[0mfind\u001b[0m\u001b[0;34m(\u001b[0m\u001b[0;36m5\u001b[0m\u001b[0;34m)\u001b[0m\u001b[0;34m\u001b[0m\u001b[0;34m\u001b[0m\u001b[0m\n\u001b[0m",
      "\u001b[0;31mAttributeError\u001b[0m: 'list' object has no attribute 'find'"
     ]
    }
   ],
   "source": [
    "s.find(5)"
   ]
  },
  {
   "cell_type": "code",
   "execution_count": 182,
   "id": "32de0de2",
   "metadata": {},
   "outputs": [
    {
     "ename": "ValueError",
     "evalue": "698 is not in list",
     "output_type": "error",
     "traceback": [
      "\u001b[0;31m---------------------------------------------------------------------------\u001b[0m",
      "\u001b[0;31mValueError\u001b[0m                                Traceback (most recent call last)",
      "\u001b[0;32m<ipython-input-182-370d19c19d4f>\u001b[0m in \u001b[0;36m<module>\u001b[0;34m\u001b[0m\n\u001b[0;32m----> 1\u001b[0;31m \u001b[0ms\u001b[0m\u001b[0;34m.\u001b[0m\u001b[0mindex\u001b[0m\u001b[0;34m(\u001b[0m\u001b[0;36m698\u001b[0m\u001b[0;34m)\u001b[0m\u001b[0;34m\u001b[0m\u001b[0;34m\u001b[0m\u001b[0m\n\u001b[0m",
      "\u001b[0;31mValueError\u001b[0m: 698 is not in list"
     ]
    }
   ],
   "source": [
    "s.index(698)"
   ]
  },
  {
   "cell_type": "code",
   "execution_count": 191,
   "id": "c2aad83a",
   "metadata": {},
   "outputs": [
    {
     "data": {
      "text/plain": [
       "[1,\n",
       " 2,\n",
       " 3,\n",
       " 4,\n",
       " 5,\n",
       " 5,\n",
       " [3, 2, 4, 5, 6, 4],\n",
       " 6,\n",
       " 7,\n",
       " 8,\n",
       " 'dss',\n",
       " 7,\n",
       " 8,\n",
       " 9,\n",
       " [6, 7, 8, 'dss']]"
      ]
     },
     "execution_count": 191,
     "metadata": {},
     "output_type": "execute_result"
    }
   ],
   "source": [
    "s"
   ]
  },
  {
   "cell_type": "code",
   "execution_count": 192,
   "id": "01e5f5dd",
   "metadata": {},
   "outputs": [],
   "source": [
    "s.remove(3)"
   ]
  },
  {
   "cell_type": "code",
   "execution_count": 194,
   "id": "efe26eea",
   "metadata": {},
   "outputs": [
    {
     "data": {
      "text/plain": [
       "[1, 2, 4, 5, 5, [3, 2, 4, 5, 6, 4], 6, 7, 8, 'dss', 7, 8, 9, [6, 7, 8, 'dss']]"
      ]
     },
     "execution_count": 194,
     "metadata": {},
     "output_type": "execute_result"
    }
   ],
   "source": [
    "s"
   ]
  },
  {
   "cell_type": "code",
   "execution_count": 196,
   "id": "475e2ffc",
   "metadata": {},
   "outputs": [],
   "source": [
    "for i in s:\n",
    "    if i==7:\n",
    "        s.remove(7)"
   ]
  },
  {
   "cell_type": "code",
   "execution_count": 198,
   "id": "59461d97",
   "metadata": {},
   "outputs": [
    {
     "data": {
      "text/plain": [
       "[1, 2, 4, 5, 5, [3, 2, 4, 5, 6, 4], 6, 8, 'dss', 8, 9, [6, 7, 8, 'dss']]"
      ]
     },
     "execution_count": 198,
     "metadata": {},
     "output_type": "execute_result"
    }
   ],
   "source": [
    "s"
   ]
  },
  {
   "cell_type": "code",
   "execution_count": null,
   "id": "0bd7c716",
   "metadata": {},
   "outputs": [],
   "source": []
  }
 ],
 "metadata": {
  "kernelspec": {
   "display_name": "Python 3",
   "language": "python",
   "name": "python3"
  },
  "language_info": {
   "codemirror_mode": {
    "name": "ipython",
    "version": 3
   },
   "file_extension": ".py",
   "mimetype": "text/x-python",
   "name": "python",
   "nbconvert_exporter": "python",
   "pygments_lexer": "ipython3",
   "version": "3.9.5"
  }
 },
 "nbformat": 4,
 "nbformat_minor": 5
}
