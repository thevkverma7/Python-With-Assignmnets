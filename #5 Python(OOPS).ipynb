{
 "cells": [
  {
   "cell_type": "code",
   "execution_count": 3,
   "id": "a74cea2b",
   "metadata": {},
   "outputs": [],
   "source": [
    "##for example check the class\n",
    "i=10"
   ]
  },
  {
   "cell_type": "code",
   "execution_count": 4,
   "id": "3bc27021",
   "metadata": {},
   "outputs": [
    {
     "name": "stdout",
     "output_type": "stream",
     "text": [
      "<class 'int'>\n"
     ]
    }
   ],
   "source": [
    "print(type(i))"
   ]
  },
  {
   "cell_type": "code",
   "execution_count": 5,
   "id": "3579a538",
   "metadata": {},
   "outputs": [],
   "source": [
    "## create th class"
   ]
  },
  {
   "cell_type": "code",
   "execution_count": 6,
   "id": "568b2aa5",
   "metadata": {},
   "outputs": [],
   "source": [
    "class test:\n",
    "    pass"
   ]
  },
  {
   "cell_type": "code",
   "execution_count": 7,
   "id": "2b124608",
   "metadata": {},
   "outputs": [],
   "source": [
    "class person:\n",
    "    pass"
   ]
  },
  {
   "cell_type": "code",
   "execution_count": 8,
   "id": "8ac05c51",
   "metadata": {},
   "outputs": [],
   "source": [
    "p=person"
   ]
  },
  {
   "cell_type": "code",
   "execution_count": 11,
   "id": "e294499f",
   "metadata": {},
   "outputs": [
    {
     "name": "stdout",
     "output_type": "stream",
     "text": [
      "<class '__main__.person'>\n"
     ]
    }
   ],
   "source": [
    "print(p)"
   ]
  },
  {
   "cell_type": "code",
   "execution_count": 13,
   "id": "6fecfc8c",
   "metadata": {},
   "outputs": [],
   "source": [
    "p.name=\"vivek\"\n",
    "p.surname=\"verma\"\n",
    "p.yob=1997"
   ]
  },
  {
   "cell_type": "code",
   "execution_count": 22,
   "id": "180da264",
   "metadata": {},
   "outputs": [],
   "source": [
    "a=person\n",
    "a.name='abc' ##bad method\n",
    "a.yob=1888\n",
    "a.empno=345424"
   ]
  },
  {
   "cell_type": "code",
   "execution_count": 23,
   "id": "89aa8bf6",
   "metadata": {},
   "outputs": [
    {
     "data": {
      "text/plain": [
       "'abc'"
      ]
     },
     "execution_count": 23,
     "metadata": {},
     "output_type": "execute_result"
    }
   ],
   "source": [
    "p.name"
   ]
  },
  {
   "cell_type": "code",
   "execution_count": 24,
   "id": "a9baefba",
   "metadata": {},
   "outputs": [
    {
     "data": {
      "text/plain": [
       "1888"
      ]
     },
     "execution_count": 24,
     "metadata": {},
     "output_type": "execute_result"
    }
   ],
   "source": [
    "p.yob"
   ]
  },
  {
   "cell_type": "code",
   "execution_count": 25,
   "id": "32d6d400",
   "metadata": {},
   "outputs": [
    {
     "data": {
      "text/plain": [
       "'abc'"
      ]
     },
     "execution_count": 25,
     "metadata": {},
     "output_type": "execute_result"
    }
   ],
   "source": [
    "a.name"
   ]
  },
  {
   "cell_type": "code",
   "execution_count": 26,
   "id": "a01e1069",
   "metadata": {},
   "outputs": [
    {
     "data": {
      "text/plain": [
       "'verma'"
      ]
     },
     "execution_count": 26,
     "metadata": {},
     "output_type": "execute_result"
    }
   ],
   "source": [
    "p.surname"
   ]
  },
  {
   "cell_type": "code",
   "execution_count": 27,
   "id": "3efd5d6c",
   "metadata": {},
   "outputs": [
    {
     "data": {
      "text/plain": [
       "str"
      ]
     },
     "execution_count": 27,
     "metadata": {},
     "output_type": "execute_result"
    }
   ],
   "source": [
    "type(a.name)"
   ]
  },
  {
   "cell_type": "code",
   "execution_count": 38,
   "id": "69f61ba4",
   "metadata": {},
   "outputs": [],
   "source": [
    "class person:\n",
    "    def __init__(self,name,surname,yob):\n",
    "        self.name=name\n",
    "        self.surname=surname\n",
    "        self.yob=yob\n",
    "        "
   ]
  },
  {
   "cell_type": "code",
   "execution_count": 43,
   "id": "38282eaa",
   "metadata": {},
   "outputs": [],
   "source": [
    "p= person(\"vivek\",\"verma\",1997)\n",
    "a= person('ram','kumar',2005)"
   ]
  },
  {
   "cell_type": "code",
   "execution_count": 44,
   "id": "14a82f98",
   "metadata": {},
   "outputs": [],
   "source": [
    "s= person('amit','kumar',1994)"
   ]
  },
  {
   "cell_type": "code",
   "execution_count": 45,
   "id": "dbd86283",
   "metadata": {},
   "outputs": [
    {
     "data": {
      "text/plain": [
       "'amit'"
      ]
     },
     "execution_count": 45,
     "metadata": {},
     "output_type": "execute_result"
    }
   ],
   "source": [
    "s.name"
   ]
  },
  {
   "cell_type": "code",
   "execution_count": 46,
   "id": "386ccf8b",
   "metadata": {},
   "outputs": [
    {
     "data": {
      "text/plain": [
       "'vivek'"
      ]
     },
     "execution_count": 46,
     "metadata": {},
     "output_type": "execute_result"
    }
   ],
   "source": [
    "p.name"
   ]
  },
  {
   "cell_type": "code",
   "execution_count": 48,
   "id": "802f36fd",
   "metadata": {},
   "outputs": [
    {
     "data": {
      "text/plain": [
       "'kumar'"
      ]
     },
     "execution_count": 48,
     "metadata": {},
     "output_type": "execute_result"
    }
   ],
   "source": [
    "a.surname"
   ]
  },
  {
   "cell_type": "code",
   "execution_count": 65,
   "id": "cf4f0345",
   "metadata": {},
   "outputs": [],
   "source": [
    "class person:\n",
    "    def __init__(self,name,surname,yob):\n",
    "        self.name=name\n",
    "        self.surname=surname\n",
    "        self.yob=yob\n",
    "        \n",
    "    def test(self,n,m):\n",
    "        return n+m+self.yob"
   ]
  },
  {
   "cell_type": "code",
   "execution_count": 66,
   "id": "a474b3a6",
   "metadata": {},
   "outputs": [],
   "source": [
    "p=person(\"vivek\",\"kumar\",24)"
   ]
  },
  {
   "cell_type": "code",
   "execution_count": 67,
   "id": "bc84bed5",
   "metadata": {},
   "outputs": [
    {
     "data": {
      "text/plain": [
       "'vivek'"
      ]
     },
     "execution_count": 67,
     "metadata": {},
     "output_type": "execute_result"
    }
   ],
   "source": [
    "p.name"
   ]
  },
  {
   "cell_type": "code",
   "execution_count": 68,
   "id": "289cf78a",
   "metadata": {},
   "outputs": [
    {
     "data": {
      "text/plain": [
       "90"
      ]
     },
     "execution_count": 68,
     "metadata": {},
     "output_type": "execute_result"
    }
   ],
   "source": [
    "p.test(24,42)"
   ]
  },
  {
   "cell_type": "code",
   "execution_count": 69,
   "id": "5cf0d70d",
   "metadata": {},
   "outputs": [
    {
     "name": "stdout",
     "output_type": "stream",
     "text": [
      "<__main__.person object at 0x7f194e6605b0>\n"
     ]
    }
   ],
   "source": [
    "print(p) ## object location"
   ]
  },
  {
   "cell_type": "code",
   "execution_count": 75,
   "id": "b4a3f2cc",
   "metadata": {},
   "outputs": [],
   "source": [
    "class person:\n",
    "    def __init__(self,name,surname,yob):\n",
    "        self.name=name\n",
    "        self.surname=surname\n",
    "        self.yob=yob\n",
    "        \n",
    "    def test(self,n,m):\n",
    "        return n+m+self.yob    \n",
    "    def __str__(self):\n",
    "        return \"my name is\""
   ]
  },
  {
   "cell_type": "code",
   "execution_count": 77,
   "id": "26d14dac",
   "metadata": {},
   "outputs": [],
   "source": [
    "p=person(\"vivek\",\"kumar\",24)"
   ]
  },
  {
   "cell_type": "code",
   "execution_count": 78,
   "id": "596c6abe",
   "metadata": {},
   "outputs": [
    {
     "name": "stdout",
     "output_type": "stream",
     "text": [
      "my name is\n"
     ]
    }
   ],
   "source": [
    "print(p)"
   ]
  },
  {
   "cell_type": "code",
   "execution_count": 79,
   "id": "c0bd777a",
   "metadata": {},
   "outputs": [
    {
     "data": {
      "text/plain": [
       "'vivek'"
      ]
     },
     "execution_count": 79,
     "metadata": {},
     "output_type": "execute_result"
    }
   ],
   "source": [
    "p.name"
   ]
  },
  {
   "cell_type": "code",
   "execution_count": 80,
   "id": "ea5a1e5a",
   "metadata": {},
   "outputs": [
    {
     "data": {
      "text/plain": [
       "<__main__.person at 0x7f194e490250>"
      ]
     },
     "execution_count": 80,
     "metadata": {},
     "output_type": "execute_result"
    }
   ],
   "source": [
    "p"
   ]
  },
  {
   "cell_type": "code",
   "execution_count": 81,
   "id": "03f1fbb1",
   "metadata": {},
   "outputs": [],
   "source": [
    "## another way\n",
    "class test:\n",
    "    pass"
   ]
  },
  {
   "cell_type": "code",
   "execution_count": 83,
   "id": "eaeaf21a",
   "metadata": {},
   "outputs": [],
   "source": [
    "p=test()\n",
    "p.name=\"vivek\"\n",
    "p.surname='verma'\n",
    "p.yob=1997"
   ]
  },
  {
   "cell_type": "code",
   "execution_count": 84,
   "id": "56d7b33a",
   "metadata": {},
   "outputs": [
    {
     "data": {
      "text/plain": [
       "'vivek'"
      ]
     },
     "execution_count": 84,
     "metadata": {},
     "output_type": "execute_result"
    }
   ],
   "source": [
    "p.name"
   ]
  },
  {
   "cell_type": "code",
   "execution_count": 85,
   "id": "a0c33fc0",
   "metadata": {},
   "outputs": [],
   "source": [
    "s=test()\n",
    "s.name='amit'"
   ]
  },
  {
   "cell_type": "code",
   "execution_count": 86,
   "id": "7590aab9",
   "metadata": {},
   "outputs": [
    {
     "data": {
      "text/plain": [
       "'amit'"
      ]
     },
     "execution_count": 86,
     "metadata": {},
     "output_type": "execute_result"
    }
   ],
   "source": [
    "s.name"
   ]
  },
  {
   "cell_type": "code",
   "execution_count": 87,
   "id": "8e64899e",
   "metadata": {},
   "outputs": [
    {
     "data": {
      "text/plain": [
       "'vivek'"
      ]
     },
     "execution_count": 87,
     "metadata": {},
     "output_type": "execute_result"
    }
   ],
   "source": [
    "p.name"
   ]
  },
  {
   "cell_type": "code",
   "execution_count": 89,
   "id": "eab05be9",
   "metadata": {},
   "outputs": [],
   "source": [
    "##another way\n",
    "class person:\n",
    "    def pass_name(self,name):\n",
    "        self.name=name\n",
    "    def pass_surname(self,surname):\n",
    "        self.surname=surname\n",
    "    def pass_yob(self,yob):\n",
    "        self.yob=yob"
   ]
  },
  {
   "cell_type": "code",
   "execution_count": 90,
   "id": "079fecb6",
   "metadata": {},
   "outputs": [],
   "source": [
    "p=person()"
   ]
  },
  {
   "cell_type": "code",
   "execution_count": 91,
   "id": "4e8e45a4",
   "metadata": {},
   "outputs": [
    {
     "ename": "AttributeError",
     "evalue": "'person' object has no attribute 'name'",
     "output_type": "error",
     "traceback": [
      "\u001b[0;31m---------------------------------------------------------------------------\u001b[0m",
      "\u001b[0;31mAttributeError\u001b[0m                            Traceback (most recent call last)",
      "\u001b[0;32m<ipython-input-91-a2041b62649a>\u001b[0m in \u001b[0;36m<module>\u001b[0;34m\u001b[0m\n\u001b[0;32m----> 1\u001b[0;31m \u001b[0mp\u001b[0m\u001b[0;34m.\u001b[0m\u001b[0mname\u001b[0m\u001b[0;34m\u001b[0m\u001b[0;34m\u001b[0m\u001b[0m\n\u001b[0m",
      "\u001b[0;31mAttributeError\u001b[0m: 'person' object has no attribute 'name'"
     ]
    }
   ],
   "source": [
    "p.name"
   ]
  },
  {
   "cell_type": "code",
   "execution_count": 95,
   "id": "b3518fd3",
   "metadata": {},
   "outputs": [],
   "source": [
    "p.pass_name(\"vivek\")\n",
    "p.pass_surname('verma')\n",
    "p.pass_yob(1997)"
   ]
  },
  {
   "cell_type": "code",
   "execution_count": 96,
   "id": "c2ff9fad",
   "metadata": {},
   "outputs": [
    {
     "data": {
      "text/plain": [
       "'vivek'"
      ]
     },
     "execution_count": 96,
     "metadata": {},
     "output_type": "execute_result"
    }
   ],
   "source": [
    "p.name"
   ]
  },
  {
   "cell_type": "code",
   "execution_count": 97,
   "id": "6a15dc76",
   "metadata": {},
   "outputs": [
    {
     "data": {
      "text/plain": [
       "'verma'"
      ]
     },
     "execution_count": 97,
     "metadata": {},
     "output_type": "execute_result"
    }
   ],
   "source": [
    "p.surname"
   ]
  },
  {
   "cell_type": "code",
   "execution_count": 98,
   "id": "5c6af099",
   "metadata": {},
   "outputs": [
    {
     "data": {
      "text/plain": [
       "1997"
      ]
     },
     "execution_count": 98,
     "metadata": {},
     "output_type": "execute_result"
    }
   ],
   "source": [
    "p.yob"
   ]
  },
  {
   "cell_type": "code",
   "execution_count": 103,
   "id": "84779296",
   "metadata": {},
   "outputs": [],
   "source": [
    "## abstraction (_protected)\n",
    "class person:\n",
    "    def __init__(self,name,surname,yob):\n",
    "        self._name=name\n",
    "        self._surname=surname\n",
    "        self._yob=yob\n",
    "        \n",
    "    def test(self,n,m):\n",
    "        return n+m+self._yob    \n",
    "    def __str__(self):\n",
    "        return \"my name is\""
   ]
  },
  {
   "cell_type": "code",
   "execution_count": 104,
   "id": "e5bd481e",
   "metadata": {},
   "outputs": [],
   "source": [
    "p=person('vivek','kumar',1997)"
   ]
  },
  {
   "cell_type": "code",
   "execution_count": 105,
   "id": "9669bef7",
   "metadata": {},
   "outputs": [
    {
     "data": {
      "text/plain": [
       "'vivek'"
      ]
     },
     "execution_count": 105,
     "metadata": {},
     "output_type": "execute_result"
    }
   ],
   "source": [
    "p._name"
   ]
  },
  {
   "cell_type": "code",
   "execution_count": 106,
   "id": "2469dd42",
   "metadata": {},
   "outputs": [
    {
     "data": {
      "text/plain": [
       "{'_name': 'vivek', '_surname': 'kumar', '_yob': 1997}"
      ]
     },
     "execution_count": 106,
     "metadata": {},
     "output_type": "execute_result"
    }
   ],
   "source": [
    "p.__dict__"
   ]
  },
  {
   "cell_type": "code",
   "execution_count": 111,
   "id": "89bf78b6",
   "metadata": {},
   "outputs": [],
   "source": [
    "## private\n",
    "class person:\n",
    "    def __init__(self,name,surname,yob):\n",
    "        self.__name=name\n",
    "        self.__surname=surname\n",
    "        self.__yob=yob\n",
    "        \n",
    "    def test(self,n,m):\n",
    "        return n+m+self.__yob    \n",
    "    def __str__(self):\n",
    "        return \"my name is\""
   ]
  },
  {
   "cell_type": "code",
   "execution_count": 112,
   "id": "2b1c5160",
   "metadata": {},
   "outputs": [],
   "source": [
    "p=person('vivek', 'kumar',1997)"
   ]
  },
  {
   "cell_type": "code",
   "execution_count": 113,
   "id": "e6828327",
   "metadata": {},
   "outputs": [
    {
     "ename": "AttributeError",
     "evalue": "'person' object has no attribute '__name'",
     "output_type": "error",
     "traceback": [
      "\u001b[0;31m---------------------------------------------------------------------------\u001b[0m",
      "\u001b[0;31mAttributeError\u001b[0m                            Traceback (most recent call last)",
      "\u001b[0;32m<ipython-input-113-b1345df4d5ca>\u001b[0m in \u001b[0;36m<module>\u001b[0;34m\u001b[0m\n\u001b[0;32m----> 1\u001b[0;31m \u001b[0mp\u001b[0m\u001b[0;34m.\u001b[0m\u001b[0m__name\u001b[0m\u001b[0;34m\u001b[0m\u001b[0;34m\u001b[0m\u001b[0m\n\u001b[0m",
      "\u001b[0;31mAttributeError\u001b[0m: 'person' object has no attribute '__name'"
     ]
    }
   ],
   "source": [
    "p.__name"
   ]
  },
  {
   "cell_type": "code",
   "execution_count": 114,
   "id": "af1502e1",
   "metadata": {},
   "outputs": [
    {
     "data": {
      "text/plain": [
       "{'_person__name': 'vivek', '_person__surname': 'kumar', '_person__yob': 1997}"
      ]
     },
     "execution_count": 114,
     "metadata": {},
     "output_type": "execute_result"
    }
   ],
   "source": [
    "p.__dict__"
   ]
  },
  {
   "cell_type": "code",
   "execution_count": 115,
   "id": "cf70a203",
   "metadata": {},
   "outputs": [
    {
     "data": {
      "text/plain": [
       "'vivek'"
      ]
     },
     "execution_count": 115,
     "metadata": {},
     "output_type": "execute_result"
    }
   ],
   "source": [
    "p._person__name"
   ]
  },
  {
   "cell_type": "code",
   "execution_count": 116,
   "id": "924fc782",
   "metadata": {},
   "outputs": [
    {
     "data": {
      "text/plain": [
       "'kumar'"
      ]
     },
     "execution_count": 116,
     "metadata": {},
     "output_type": "execute_result"
    }
   ],
   "source": [
    "p._person__surname"
   ]
  },
  {
   "cell_type": "code",
   "execution_count": 118,
   "id": "f95c8d2f",
   "metadata": {},
   "outputs": [],
   "source": [
    "## inheritance\n",
    "## abstraction (_protected)\n",
    "class person:\n",
    "    def __init__(self,name,surname,yob):\n",
    "        self._name=name\n",
    "        self._surname=surname\n",
    "        self._yob=yob\n",
    "        \n",
    "    def test(self,n,m):\n",
    "        return n+m+self._yob    \n",
    "    def __str__(self):\n",
    "        return \"my name is\""
   ]
  },
  {
   "cell_type": "code",
   "execution_count": 120,
   "id": "6f3602e2",
   "metadata": {},
   "outputs": [],
   "source": [
    "class student(person):\n",
    "    def __init__(self,roll_no,college_name, *args):\n",
    "        super(student,self).__init__(*args)\n",
    "        self.roll_no= roll_no\n",
    "        self.college_name=college_name\n",
    "    \n",
    "stud=student(450,\"cdac\",'vivek',\"verma\",1997)    "
   ]
  },
  {
   "cell_type": "code",
   "execution_count": 121,
   "id": "5561e51a",
   "metadata": {},
   "outputs": [
    {
     "data": {
      "text/plain": [
       "'vivek'"
      ]
     },
     "execution_count": 121,
     "metadata": {},
     "output_type": "execute_result"
    }
   ],
   "source": [
    "stud._name"
   ]
  },
  {
   "cell_type": "code",
   "execution_count": 122,
   "id": "f5afba4c",
   "metadata": {},
   "outputs": [
    {
     "data": {
      "text/plain": [
       "2006"
      ]
     },
     "execution_count": 122,
     "metadata": {},
     "output_type": "execute_result"
    }
   ],
   "source": [
    "stud.test(4,5)"
   ]
  },
  {
   "cell_type": "code",
   "execution_count": 132,
   "id": "4b988436",
   "metadata": {},
   "outputs": [
    {
     "name": "stdout",
     "output_type": "stream",
     "text": [
      "my name is vivek\n",
      "my surname is verma\n",
      "my name is vivek\n"
     ]
    }
   ],
   "source": [
    "class a:\n",
    "    def test(self):\n",
    "        print(\"my name is vivek\")\n",
    "class b:\n",
    "    def test(self):\n",
    "        print(\"my surname is verma\")\n",
    "class c(a,b):\n",
    "    obja=a()\n",
    "    objb=b()\n",
    "    obja.test()\n",
    "    objb.test()\n",
    "objc=c()\n",
    "objc.test() ## pass frist "
   ]
  },
  {
   "cell_type": "code",
   "execution_count": null,
   "id": "9ea5c724",
   "metadata": {},
   "outputs": [],
   "source": []
  }
 ],
 "metadata": {
  "kernelspec": {
   "display_name": "Python 3",
   "language": "python",
   "name": "python3"
  },
  "language_info": {
   "codemirror_mode": {
    "name": "ipython",
    "version": 3
   },
   "file_extension": ".py",
   "mimetype": "text/x-python",
   "name": "python",
   "nbconvert_exporter": "python",
   "pygments_lexer": "ipython3",
   "version": "3.9.5"
  }
 },
 "nbformat": 4,
 "nbformat_minor": 5
}
