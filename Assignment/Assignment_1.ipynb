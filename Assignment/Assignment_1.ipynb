{
 "cells": [
  {
   "cell_type": "markdown",
   "id": "09f94e96",
   "metadata": {},
   "source": [
    "##### 1. In the below elements which of them are values or an expression? eg:- values can be integer or string and expressions will be mathematical operators.\n",
    "*,'hello', -87.8,-,/,+,6\n",
    "\n",
    "Ans: There are a total of 4 Operators and 3 Expressions, They are:\n",
    "\n",
    "Operators: *,-,/,+\n",
    "\n",
    "Expressions: 'hello', 87.8, 6"
   ]
  },
  {
   "cell_type": "markdown",
   "id": "0ddb221e",
   "metadata": {},
   "source": [
    "###### 2. What is the difference between string and variable?\n",
    "Ans: A Variable is a type of data that may be stored, and a String is a type of data that can be stored in a Variable. A String is a group of characters or a single character usually enclosed in Double quotes \" \" or single quotes ' '"
   ]
  },
  {
   "cell_type": "markdown",
   "id": "5236bb54",
   "metadata": {},
   "source": [
    "###### 3. Describe three different Data Types ?\n",
    "Ans: Three fundamental Data types in python are int, float, complex.\n"
   ]
  },
  {
   "cell_type": "code",
   "execution_count": 2,
   "id": "9f62e29d",
   "metadata": {},
   "outputs": [
    {
     "name": "stdout",
     "output_type": "stream",
     "text": [
      "10 <class 'int'>\n",
      "10.54 <class 'float'>\n",
      "(5+10j) <class 'complex'>\n"
     ]
    }
   ],
   "source": [
    "# Example for int data type\n",
    "a=10\n",
    "print(a, type(a))\n",
    "# Example for float data type\n",
    "b=10.54\n",
    "print(b, type(b))\n",
    "# Example for Complex data type\n",
    "c=5+10j\n",
    "print(c, type(c))"
   ]
  },
  {
   "cell_type": "markdown",
   "id": "61f3b3d1",
   "metadata": {},
   "source": [
    "###### 4. What is an expression made up of? What do all expressions do?\n",
    "Ans: Values, variables, operators, and calls to functions make up an expression. Expressions must be assessed. When we tell Python to print an expression, the interpreter evaluates it and outputs the result."
   ]
  },
  {
   "cell_type": "code",
   "execution_count": 4,
   "id": "dac940ac",
   "metadata": {},
   "outputs": [
    {
     "data": {
      "text/plain": [
       "0"
      ]
     },
     "execution_count": 4,
     "metadata": {},
     "output_type": "execute_result"
    }
   ],
   "source": [
    "4*+20-80 # Is an Expression, The Python Interpreter Evaluates it to 0"
   ]
  },
  {
   "cell_type": "markdown",
   "id": "fc0dfa2a",
   "metadata": {},
   "source": [
    "###### 5.This assignment statements, like spam = 10. What is the difference between an expression and a statement?\n",
    "Ans: Values, variables, operators, and calls to functions make up an expression. Expressions must be assessed. When we tell Python to print an expression, the interpreter evaluates it and outputs the result.\n",
    "\n",
    "eg: 4*+20-80 \n",
    "\n",
    "A statement is a piece of code that performs a specific task, such as creating a variable or displaying a value. The interpreter executes a statement when we type it, which means it does what the statement says. Statements, in general, do not have values.\n",
    "\n",
    "eg: Because variable declaration and assignment do not return a value, they are statements."
   ]
  },
  {
   "cell_type": "code",
   "execution_count": 5,
   "id": "18585cf1",
   "metadata": {},
   "outputs": [
    {
     "name": "stdout",
     "output_type": "stream",
     "text": [
      "Hello World !\n"
     ]
    }
   ],
   "source": [
    "#Example:\n",
    "4*+20-80 # Is a Expression\n",
    "Name_Couse = 'Ineuron FSDS Bootcamp' # Is a Statement\n",
    "print(\"Hello World !\") # Is a Expression Statement"
   ]
  },
  {
   "cell_type": "markdown",
   "id": "30e63d32",
   "metadata": {},
   "source": [
    "###### 6.After running the following code, what does the variable bacon contain?\n",
    "bacon = 22\n",
    "\n",
    "bacon + 1\n",
    "\n",
    "Ans: The variable bacon is set to 22 .The expression bacon + 1 does not reassign the value in bacon (that would the case if the expression is like bacon = bacon + 1 instead of bacon + 1)"
   ]
  },
  {
   "cell_type": "code",
   "execution_count": 6,
   "id": "669024eb",
   "metadata": {},
   "outputs": [
    {
     "name": "stdout",
     "output_type": "stream",
     "text": [
      "22\n"
     ]
    }
   ],
   "source": [
    "# Example Case#1\n",
    "bacon=22\n",
    "bacon+1\n",
    "print(bacon)"
   ]
  },
  {
   "cell_type": "code",
   "execution_count": 7,
   "id": "414c8bfa",
   "metadata": {},
   "outputs": [
    {
     "name": "stdout",
     "output_type": "stream",
     "text": [
      "23\n"
     ]
    }
   ],
   "source": [
    "#Example Case#2\n",
    "bacon=22\n",
    "bacon=bacon+1 \n",
    "print(bacon)"
   ]
  },
  {
   "cell_type": "markdown",
   "id": "c0b800be",
   "metadata": {},
   "source": [
    "###### 7.What should the values of the following two terms be?\n",
    "'spam'+'spamspam'\n",
    "\n",
    "'spam'*3"
   ]
  },
  {
   "cell_type": "code",
   "execution_count": 9,
   "id": "f7b00424",
   "metadata": {},
   "outputs": [
    {
     "name": "stdout",
     "output_type": "stream",
     "text": [
      "spamspamspam\n",
      "spamspamspam\n"
     ]
    }
   ],
   "source": [
    "print('spam'+'spamspam') # string concatenation\n",
    "print('spam'*3) # string multiplication"
   ]
  },
  {
   "cell_type": "markdown",
   "id": "d2bc3537",
   "metadata": {},
   "source": [
    "###### 8. Why is eggs a valid variable name while 100 is invalid?\n",
    "Ans: Variable names in Python cannot begin with a number. The following are the rules for naming variables in Python:\n",
    "\n",
    "1. The variable name must begin with a letter or an underscore.\n",
    "\n",
    "2. A number cannot be the first character in a variable name.\n",
    "\n",
    "3. Only alpha-numeric characters and underscores (A-z, 0-9, and _) are allowed in variable names.\n",
    "\n",
    "4. Case-sensitive when naming variables (SUDH and sudh are different variables).\n",
    "\n",
    "5. When naming the variable, the reserved terms (keywords) cannot be used."
   ]
  },
  {
   "cell_type": "code",
   "execution_count": 10,
   "id": "4f449722",
   "metadata": {},
   "outputs": [
    {
     "ename": "SyntaxError",
     "evalue": "cannot assign to literal (Temp/ipykernel_9092/1076004081.py, line 2)",
     "output_type": "error",
     "traceback": [
      "\u001b[1;36m  File \u001b[1;32m\"C:\\Users\\thevk\\AppData\\Local\\Temp/ipykernel_9092/1076004081.py\"\u001b[1;36m, line \u001b[1;32m2\u001b[0m\n\u001b[1;33m    100='sudhanshu'\u001b[0m\n\u001b[1;37m    ^\u001b[0m\n\u001b[1;31mSyntaxError\u001b[0m\u001b[1;31m:\u001b[0m cannot assign to literal\n"
     ]
    }
   ],
   "source": [
    "egg='sudh'\n",
    "100='sudhanshu'\n",
    "print(egg) \n",
    "print(100)"
   ]
  },
  {
   "cell_type": "markdown",
   "id": "db1ab2b3",
   "metadata": {},
   "source": [
    "###### 9.What three functions can be used to get the integer,floating-point number,or string version of a value?\n",
    "Ans: The int(),float(),and str() functions will evaluate to the integer,floating-point number,string version of the value passed to them."
   ]
  },
  {
   "cell_type": "code",
   "execution_count": 12,
   "id": "efcbb156",
   "metadata": {},
   "outputs": [
    {
     "name": "stdout",
     "output_type": "stream",
     "text": [
      "int(15) ->  15\n",
      "float(25) ->  25.0\n",
      "str(35) ->  35\n"
     ]
    }
   ],
   "source": [
    "# Examples:\n",
    "print('int(15) -> ',int(15.0)) \n",
    "print('float(25) -> ',float(25))\n",
    "print('str(35) -> ',str(35)) "
   ]
  },
  {
   "cell_type": "markdown",
   "id": "6300e9f5",
   "metadata": {},
   "source": [
    "##### 10.Why does this expression cause an error? how can you fix it?\n",
    "'I have eaten ' + 99 + 'burritos.'\n",
    "\n",
    "Ans: This cause of error is 99.because 99 is not a string. 99 must be typecasted to a string to fix this error. the correct way is:\n",
    "Input: 'I have eaten ' + str(99) + 'burritos.'\n",
    "Output: 'I have eaten 99 burritos.'\n",
    "\n"
   ]
  },
  {
   "cell_type": "code",
   "execution_count": 13,
   "id": "2923cfe1",
   "metadata": {},
   "outputs": [
    {
     "name": "stdout",
     "output_type": "stream",
     "text": [
      "I have eaten 99 burritos\n"
     ]
    }
   ],
   "source": [
    "print('I have eaten '+str(99)+' burritos')"
   ]
  },
  {
   "cell_type": "code",
   "execution_count": null,
   "id": "8bf69728",
   "metadata": {},
   "outputs": [],
   "source": []
  }
 ],
 "metadata": {
  "kernelspec": {
   "display_name": "Python 3 (ipykernel)",
   "language": "python",
   "name": "python3"
  },
  "language_info": {
   "codemirror_mode": {
    "name": "ipython",
    "version": 3
   },
   "file_extension": ".py",
   "mimetype": "text/x-python",
   "name": "python",
   "nbconvert_exporter": "python",
   "pygments_lexer": "ipython3",
   "version": "3.9.0"
  }
 },
 "nbformat": 4,
 "nbformat_minor": 5
}
